{
 "cells": [
  {
   "cell_type": "markdown",
   "metadata": {},
   "source": [
    "### **Description**\n",
    "\n",
    "This recipe shows how to calculate statistics for regional sub-domains using monthly-mean outputs from the National Oceanography Centre Near-Present-Day global eORCA1 configuration of NEMO forced using JRA55-do from 1976-2024.\n",
    "\n",
    "For more details on this model configuration and the available outputs, users can explore the Near-Present-Day documentation [here](https://noc-msm.github.io/NOC_Near_Present_Day/).\n",
    "\n",
    "---"
   ]
  },
  {
   "cell_type": "code",
   "execution_count": null,
   "metadata": {},
   "outputs": [],
   "source": [
    "# -- Import required packages -- #\n",
    "import numpy as np\n",
    "import xarray as xr\n",
    "import matplotlib.pyplot as plt\n",
    "from nemo_cookbook import NEMODataTree\n",
    "\n",
    "xr.set_options(display_style=\"text\")"
   ]
  },
  {
   "cell_type": "markdown",
   "metadata": {},
   "source": [
    "### **Using Dask**\n",
    "\n",
    "**Optional: Connect Client to Dask Local Cluster to run analysis in parallel.**\n",
    "\n",
    "Note that, although using Dask is not strictly necessary for this simple example using eORCA1, if we wanted to generalise this recipe to eORCA025 or eORCA12 outputs, using Dask would be essential to avoid unnecessary slow calculations using only a single process."
   ]
  },
  {
   "cell_type": "code",
   "execution_count": null,
   "metadata": {},
   "outputs": [],
   "source": [
    "# -- Initialise Dask Local Cluster -- #\n",
    "import os\n",
    "import dask\n",
    "from dask.distributed import Client, LocalCluster\n",
    "\n",
    "# Update temporary directory for Dask workers:\n",
    "dask.config.set({'temporary_directory': f\"{os.getcwd()}/dask_tmp\",\n",
    "                 'local_directory': f\"{os.getcwd()}/dask_tmp\"\n",
    "                 })\n",
    "\n",
    "# Create Local Cluster:\n",
    "cluster = LocalCluster(n_workers=4, threads_per_worker=3, memory_limit='5GB')\n",
    "client = Client(cluster)\n",
    "client"
   ]
  },
  {
   "cell_type": "markdown",
   "metadata": {},
   "source": [
    "### **Accessing NEMO Model Data**\n",
    "**Let's begin by loading the grid variables for our eORCA1 JRA-55 model from the [JASMIN Object Store](https://help.jasmin.ac.uk/docs/short-term-project-storage/using-the-jasmin-object-store/)**. \n",
    "\n",
    "**Alternatively, you can replace the ``domain_filepath`` below with a file path to your domain_cfg.nc file and read this with xarray's ``open_dataset()`` function.**"
   ]
  },
  {
   "cell_type": "code",
   "execution_count": null,
   "metadata": {},
   "outputs": [],
   "source": [
    "# Define directory path to ancillary files:\n",
    "domain_filepath = \"https://noc-msm-o.s3-ext.jc.rl.ac.uk/npd-eorca1-jra55v1/domain/domain_cfg\"\n",
    "\n",
    "# Open eORCA1 NEMO model domain_cfg:\n",
    "ds_domain = xr.open_zarr(domain_filepath, consolidated=True, chunks={})\n",
    "\n",
    "ds_domain"
   ]
  },
  {
   "cell_type": "markdown",
   "metadata": {},
   "source": [
    "**Next, we will import the sea surface temperature and sea surface salinity stored at T-points in a single dataset.**\n",
    "\n",
    "**Typically, NEMO model outputs defined on T-grid points are stored together in netCDF files. In this case, you can replace `xr.merge()` with a single call to xarray's `open_dataset()` function passing the file path to your `_gridT.nc` file(s).**"
   ]
  },
  {
   "cell_type": "code",
   "execution_count": null,
   "metadata": {},
   "outputs": [],
   "source": [
    "# Define directory path to model output files:\n",
    "output_dir = \"https://noc-msm-o.s3-ext.jc.rl.ac.uk/npd-eorca1-jra55v1/T1m\"\n",
    "\n",
    "# Construct NEMO model grid dataset, including vertical grid cell thicknesses (m) and meridional velocities (m/s):\n",
    "ds_gridT = xr.merge([xr.open_zarr(f\"{output_dir}/{var}\", consolidated=True, chunks={})[var] for var in ['tos_con', 'sos_abs']], compat=\"override\")\n",
    "\n",
    "ds_gridT"
   ]
  },
  {
   "cell_type": "markdown",
   "metadata": {},
   "source": [
    "### **Creating a NEMODataTree**\n",
    "\n",
    "**Next, let's create a NEMODataTree to store our domain and V-grid variables for the eORCA1 model.**"
   ]
  },
  {
   "cell_type": "code",
   "execution_count": null,
   "metadata": {},
   "outputs": [],
   "source": [
    "# Define dictionary of grid datasets defining eORCA1 parent model domain with no child/grand-child nests:\n",
    "# Note: domain_cfg z-dimension is expected to be named 'nav_lev'.\n",
    "datasets = {\"parent\": {\"domain\": ds_domain.rename({\"z\": \"nav_lev\"}), \"gridT\": ds_gridT}}\n",
    "\n",
    "# Initialise a new NEMODataTree whose parent domain is zonally periodic & north-folding on F-points:\n",
    "nemo = NEMODataTree.from_datasets(datasets=datasets, iperio=True, nftype=\"F\")\n",
    "\n",
    "nemo"
   ]
  },
  {
   "cell_type": "markdown",
   "metadata": {},
   "source": [
    "### **Defining a Regional Sub-Domain using a Bounding Box**\n",
    "\n",
    "**Now we have constructed our `NEMODataTree`, let's start by defining a regional sub-domain using a geographical bounding box.**\n",
    "\n",
    "\n",
    "**By using the `clip_grid()` method, we permanently modify the size of the specfied grid stored in our NEMODataTree.**\n",
    "\n",
    "**Alternatively, we can use `clip_domain()` to clip all of the grids associated with a given NEMO model domain to a given bounding box.**"
   ]
  },
  {
   "cell_type": "code",
   "execution_count": null,
   "metadata": {},
   "outputs": [],
   "source": [
    "# Define bounding box (lon_min, lon_max, lat_min, lat_max)\n",
    "bbox = (-80, 10, 20, 70)\n",
    "\n",
    "# Clip eORCA1 model T-grid to bounding box:\n",
    "nemo.clip_grid(grid='/gridT', bbox=bbox)\n",
    "\n",
    "# Plotting time-mean sea surface temperature for the regional sub-domain:\n",
    "nemo['/gridT']['tos_con'].mean(dim='time_counter').plot()"
   ]
  },
  {
   "cell_type": "code",
   "execution_count": null,
   "metadata": {},
   "outputs": [],
   "source": [
    "nemo"
   ]
  },
  {
   "cell_type": "markdown",
   "metadata": {},
   "source": [
    "### **Defining a Regional Sub-Domain using a Polygon**\n",
    "\n",
    "**Next, let's define a more complex regional sub-domain by constructing a mask using a polygon. Since we have already clipped the T-grid of our NEMODataTree parent domain, we will define a polygon comprised of longitude-latitude coordinates within this region.**\n",
    "\n",
    "**We will use the Overturning in the Subpolar North Atlantic Program (OSNAP) observational array coordinates made available via the [JASMIN Object Store](https://help.jasmin.ac.uk/docs/short-term-project-storage/using-the-jasmin-object-store/) to construct a polygon enclosing the North Atlantic subpolar gyre**."
   ]
  },
  {
   "cell_type": "code",
   "execution_count": null,
   "metadata": {},
   "outputs": [],
   "source": [
    "# Open OSNAP gridded observations dataset: \n",
    "ds_osnap = xr.open_zarr(\"https://noc-msm-o.s3-ext.jc.rl.ac.uk/ocean-obs/OSNAP/OSNAP_Gridded_TSV_201408_202006_2023\")\n",
    "\n",
    "# Define a closed polygon which includes both the OSNAP West & East arrays:\n",
    "lon_poly = np.concatenate([ds_osnap['LONGITUDE'].values, np.array([ds_osnap['LONGITUDE'][-1], ds_osnap['LONGITUDE'][0]])])\n",
    "lat_poly = np.concatenate([ds_osnap['LATITUDE'].values, np.array([ds_osnap['LATITUDE'][0], ds_osnap['LATITUDE'][0]])])"
   ]
  },
  {
   "cell_type": "markdown",
   "metadata": {},
   "source": [
    "**Now we have defined our polygon, we can use the `mask_with_polygon()` method to return the boolean mask classifying whether NEMO model grid points are inside (True) or outside (False) the polygon**"
   ]
  },
  {
   "cell_type": "code",
   "execution_count": null,
   "metadata": {},
   "outputs": [],
   "source": [
    "# Masking T-grid using polygon coordinates:\n",
    "mask_spg = nemo.mask_with_polygon(grid='/gridT', lon_poly=lon_poly, lat_poly=lat_poly)\n",
    "\n",
    "# Plotting SPG polygon sub-domain:\n",
    "plt.figure()\n",
    "plt.pcolormesh(nemo['/gridT']['glamt'], nemo['/gridT']['gphit'], nemo['/gridT']['tos_con'].mean(dim='time_counter'), cmap='RdBu_r')\n",
    "plt.plot(lon_poly, lat_poly, color='0.1', lw=2)\n",
    "plt.colorbar(label='Sea Surface Temperature (°C)')\n",
    "plt.xlabel('Longitude')\n",
    "plt.ylabel('Latitude')\n",
    "plt.show()\n",
    "\n",
    "# Plotting time-mean sea surface temperature for the SPG polygon sub-domain:\n",
    "plt.figure()\n",
    "plt.pcolormesh(nemo['/gridT']['glamt'], nemo['/gridT']['gphit'], nemo['/gridT']['tos_con'].mean(dim='time_counter').where(mask_spg), cmap='RdBu_r')\n",
    "plt.plot(lon_poly, lat_poly, color='0.1', lw=2)\n",
    "plt.colorbar(label='Sea Surface Temperature (°C)')\n",
    "plt.xlabel('Longitude')\n",
    "plt.xlim([-70, 5])\n",
    "plt.ylabel('Latitude')\n",
    "plt.ylim([40, 70])\n",
    "plt.show()"
   ]
  },
  {
   "cell_type": "markdown",
   "metadata": {},
   "source": [
    "### **Calculating statistics for a Regional Sub-Domain**\n",
    "\n",
    "**Finally, let's use our North Atlantic subpolar gyre polygon to calculate statistics for this regional sub-domain of the eORCA1 model.**\n",
    "\n",
    "**Given a closed polygon, we can use the `masked_statistic()` method to calculate statistics of a specified variable in the masked sub-domain**"
   ]
  },
  {
   "cell_type": "code",
   "execution_count": null,
   "metadata": {},
   "outputs": [],
   "source": [
    "# Calculating the area weighted-mean sea surface temperature in the SPG region:\n",
    "sst_wmean = nemo.masked_statistic(grid=\"/gridT\",\n",
    "                                  var=\"tos_con\",\n",
    "                                  lon_poly=lon_poly,\n",
    "                                  lat_poly=lat_poly,\n",
    "                                  statistic=\"weighted_mean\",\n",
    "                                  dims=[\"i\", \"j\"]\n",
    "                                  )\n",
    "\n",
    "sst_wmean.plot(lw=1, color='0.1', alpha=0.3)\n",
    "sst_wmean.rolling(time_counter=12, center=True).mean().plot(lw=3, color='0.1')\n",
    "plt.title('Area Weighted Mean SST for SPG Region', fontsize=12, fontweight='bold')\n",
    "plt.xlabel('Time', fontsize=12)\n",
    "plt.ylabel('Sea Surface Temperature (°C)', fontsize=12)"
   ]
  }
 ],
 "metadata": {
  "kernelspec": {
   "display_name": "env_nemo_cookbook",
   "language": "python",
   "name": "python3"
  },
  "language_info": {
   "codemirror_mode": {
    "name": "ipython",
    "version": 3
   },
   "file_extension": ".py",
   "mimetype": "text/x-python",
   "name": "python",
   "nbconvert_exporter": "python",
   "pygments_lexer": "ipython3",
   "version": "3.13.5"
  }
 },
 "nbformat": 4,
 "nbformat_minor": 2
}
