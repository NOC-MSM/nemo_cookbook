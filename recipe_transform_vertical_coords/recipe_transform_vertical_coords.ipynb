{
 "cells": [
  {
   "cell_type": "markdown",
   "metadata": {},
   "source": [
    "### **Description**\n",
    "\n",
    "Recipe showing how to conservatively transform the vertical coordinate system on which a variable is stored using annual-mean outputs from the National Oceanography Centre Near-Present-Day global eORCA1 configuration of NEMO forced using ERA-5 climatologically adjusted atmospheric forcing from 1976-2024.\n",
    "\n",
    "For more details on this model configuration and the available outputs, users can explore the Near-Present-Day documentation [here](https://noc-msm.github.io/NOC_Near_Present_Day/).\n",
    "\n",
    "---"
   ]
  },
  {
   "cell_type": "code",
   "execution_count": 1,
   "metadata": {},
   "outputs": [
    {
     "data": {
      "text/plain": [
       "<xarray.core.options.set_options at 0x300a91010>"
      ]
     },
     "execution_count": 1,
     "metadata": {},
     "output_type": "execute_result"
    }
   ],
   "source": [
    "# -- Import required packages -- #\n",
    "import numpy as np\n",
    "import xarray as xr\n",
    "from nemo_cookbook import NEMODataTree\n",
    "\n",
    "xr.set_options(display_style=\"text\")"
   ]
  },
  {
   "cell_type": "markdown",
   "metadata": {},
   "source": [
    "### **Using Dask**\n",
    "\n",
    "**Optional: Connect Client to Dask Local Cluster to run analysis in parallel.**\n",
    "\n",
    "**Note:** Although using Dask is not strictly necessary for this simple example using eORCA1, if we wanted to generalise this recipe to eORCA025 or eORCA12 outputs, using Dask would be essential to avoid unnecessary slow calculations using only a single process."
   ]
  },
  {
   "cell_type": "code",
   "execution_count": null,
   "metadata": {},
   "outputs": [],
   "source": [
    "# -- Initialise Dask Local Cluster -- #\n",
    "import os\n",
    "import dask\n",
    "from dask.distributed import Client, LocalCluster\n",
    "\n",
    "# Update temporary directory for Dask workers:\n",
    "dask.config.set({'temporary_directory': f\"{os.getcwd()}/dask_tmp\",\n",
    "                 'local_directory': f\"{os.getcwd()}/dask_tmp\"\n",
    "                 })\n",
    "\n",
    "# Create Local Cluster:\n",
    "cluster = LocalCluster(n_workers=4, threads_per_worker=3, memory_limit='5GB')\n",
    "client = Client(cluster)\n",
    "client"
   ]
  },
  {
   "cell_type": "markdown",
   "metadata": {},
   "source": [
    "### **Accessing NEMO Model Data**\n",
    "**Let's begin by loading the grid variables for our eORCA1 NEMO model from the [JASMIN Object Store](https://help.jasmin.ac.uk/docs/short-term-project-storage/using-the-jasmin-object-store/)**. \n",
    "\n",
    "**Alternatively, you can replace the ``domain_filepath`` below with a file path to your domain_cfg.nc file and read this with xarray's ``open_dataset()`` function.**"
   ]
  },
  {
   "cell_type": "code",
   "execution_count": 2,
   "metadata": {},
   "outputs": [
    {
     "data": {
      "text/html": [
       "<pre>&lt;xarray.Dataset&gt; Size: 667MB\n",
       "Dimensions:        (t: 1, y: 331, x: 360, z: 75)\n",
       "Dimensions without coordinates: t, y, x, z\n",
       "Data variables: (12/54)\n",
       "    e1t            (t, y, x) float64 953kB dask.array&lt;chunksize=(1, 331, 360), meta=np.ndarray&gt;\n",
       "    e2v            (t, y, x) float64 953kB dask.array&lt;chunksize=(1, 331, 360), meta=np.ndarray&gt;\n",
       "    bottom_level   (t, y, x) int32 477kB dask.array&lt;chunksize=(1, 331, 360), meta=np.ndarray&gt;\n",
       "    e2t            (t, y, x) float64 953kB dask.array&lt;chunksize=(1, 331, 360), meta=np.ndarray&gt;\n",
       "    e2u            (t, y, x) float64 953kB dask.array&lt;chunksize=(1, 331, 360), meta=np.ndarray&gt;\n",
       "    bathy_metry    (t, y, x) float32 477kB dask.array&lt;chunksize=(1, 331, 360), meta=np.ndarray&gt;\n",
       "    ...             ...\n",
       "    nav_lev        (z) float32 300B dask.array&lt;chunksize=(75,), meta=np.ndarray&gt;\n",
       "    mask_csundef   (t, y, x) int32 477kB dask.array&lt;chunksize=(1, 331, 360), meta=np.ndarray&gt;\n",
       "    nav_lat        (y, x) float32 477kB dask.array&lt;chunksize=(331, 360), meta=np.ndarray&gt;\n",
       "    nav_lon        (y, x) float32 477kB dask.array&lt;chunksize=(331, 360), meta=np.ndarray&gt;\n",
       "    time_counter   (t) float64 8B dask.array&lt;chunksize=(1,), meta=np.ndarray&gt;\n",
       "    top_level      (t, y, x) int32 477kB dask.array&lt;chunksize=(1, 331, 360), meta=np.ndarray&gt;\n",
       "Attributes:\n",
       "    DOMAIN_number_total:     1\n",
       "    DOMAIN_number:           0\n",
       "    DOMAIN_dimensions_ids:   [1, 2]\n",
       "    DOMAIN_size_global:      [362, 332]\n",
       "    DOMAIN_size_local:       [362, 332]\n",
       "    DOMAIN_position_first:   [1, 1]\n",
       "    DOMAIN_position_last:    [362, 332]\n",
       "    DOMAIN_halo_size_start:  [0, 0]\n",
       "    DOMAIN_halo_size_end:    [0, 0]\n",
       "    DOMAIN_type:             BOX\n",
       "    history:                 Mon Jun  5 12:41:32 2023: ncks -A mask.nc ORCA1_...\n",
       "    NCO:                     4.4.7</pre>"
      ],
      "text/plain": [
       "<xarray.Dataset> Size: 667MB\n",
       "Dimensions:        (t: 1, y: 331, x: 360, z: 75)\n",
       "Dimensions without coordinates: t, y, x, z\n",
       "Data variables: (12/54)\n",
       "    e1t            (t, y, x) float64 953kB dask.array<chunksize=(1, 331, 360), meta=np.ndarray>\n",
       "    e2v            (t, y, x) float64 953kB dask.array<chunksize=(1, 331, 360), meta=np.ndarray>\n",
       "    bottom_level   (t, y, x) int32 477kB dask.array<chunksize=(1, 331, 360), meta=np.ndarray>\n",
       "    e2t            (t, y, x) float64 953kB dask.array<chunksize=(1, 331, 360), meta=np.ndarray>\n",
       "    e2u            (t, y, x) float64 953kB dask.array<chunksize=(1, 331, 360), meta=np.ndarray>\n",
       "    bathy_metry    (t, y, x) float32 477kB dask.array<chunksize=(1, 331, 360), meta=np.ndarray>\n",
       "    ...             ...\n",
       "    nav_lev        (z) float32 300B dask.array<chunksize=(75,), meta=np.ndarray>\n",
       "    mask_csundef   (t, y, x) int32 477kB dask.array<chunksize=(1, 331, 360), meta=np.ndarray>\n",
       "    nav_lat        (y, x) float32 477kB dask.array<chunksize=(331, 360), meta=np.ndarray>\n",
       "    nav_lon        (y, x) float32 477kB dask.array<chunksize=(331, 360), meta=np.ndarray>\n",
       "    time_counter   (t) float64 8B dask.array<chunksize=(1,), meta=np.ndarray>\n",
       "    top_level      (t, y, x) int32 477kB dask.array<chunksize=(1, 331, 360), meta=np.ndarray>\n",
       "Attributes:\n",
       "    DOMAIN_number_total:     1\n",
       "    DOMAIN_number:           0\n",
       "    DOMAIN_dimensions_ids:   [1, 2]\n",
       "    DOMAIN_size_global:      [362, 332]\n",
       "    DOMAIN_size_local:       [362, 332]\n",
       "    DOMAIN_position_first:   [1, 1]\n",
       "    DOMAIN_position_last:    [362, 332]\n",
       "    DOMAIN_halo_size_start:  [0, 0]\n",
       "    DOMAIN_halo_size_end:    [0, 0]\n",
       "    DOMAIN_type:             BOX\n",
       "    history:                 Mon Jun  5 12:41:32 2023: ncks -A mask.nc ORCA1_...\n",
       "    NCO:                     4.4.7"
      ]
     },
     "execution_count": 2,
     "metadata": {},
     "output_type": "execute_result"
    }
   ],
   "source": [
    "# Define directory path to ancillary files:\n",
    "domain_filepath = \"https://noc-msm-o.s3-ext.jc.rl.ac.uk/npd-eorca1-jra55v1/domain/domain_cfg\"\n",
    "\n",
    "# Open eORCA1 NEMO model domain_cfg:\n",
    "ds_domain = xr.open_zarr(domain_filepath, consolidated=True, chunks={})\n",
    "\n",
    "ds_domain"
   ]
  },
  {
   "cell_type": "markdown",
   "metadata": {},
   "source": [
    "**Next, we need to import the sea water conservative temperature and absolute salinity stored at T-points in a single dataset.**"
   ]
  },
  {
   "cell_type": "code",
   "execution_count": 3,
   "metadata": {},
   "outputs": [],
   "source": [
    "# Define directory path to model output files:\n",
    "output_dir = \"https://noc-msm-o.s3-ext.jc.rl.ac.uk/npd-eorca1-jra55v1/T1y\"\n",
    "\n",
    "# Construct NEMO model grid dataset, including seawater conservative temperature (C) and absolute salinity (g/kg):\n",
    "ds_gridT = xr.merge([xr.open_zarr(f\"{output_dir}/{var}\", consolidated=True, chunks={'deptht': 75})[var] for var in ['thetao_con', 'e3t']], compat=\"override\")\n",
    "\n",
    "# Subsetting the time_counter dimension: \n",
    "ds_gridT = ds_gridT.sel(time_counter=slice('2000-01', '2010-12'))"
   ]
  },
  {
   "cell_type": "markdown",
   "metadata": {},
   "source": [
    "### **Creating a NEMODataTree**\n",
    "\n",
    "**Next, let's create a NEMODataTree to store our domain and T- & V-grid variables for the eORCA1 model.**"
   ]
  },
  {
   "cell_type": "code",
   "execution_count": 4,
   "metadata": {},
   "outputs": [
    {
     "data": {
      "text/html": [
       "<pre>&lt;xarray.DataTree&gt;\n",
       "Group: /\n",
       "│   Dimensions:        (time_counter: 11)\n",
       "│   Coordinates:\n",
       "│       time_centered  (time_counter) datetime64[ns] 88B dask.array&lt;chunksize=(1,), meta=np.ndarray&gt;\n",
       "│     * time_counter   (time_counter) datetime64[ns] 88B 2000-07-02 ... 2010-07-0...\n",
       "│   Attributes:\n",
       "│       nftype:   F\n",
       "│       iperio:   True\n",
       "├── Group: /gridT\n",
       "│       Dimensions:        (time_counter: 11, k: 75, j: 331, i: 360)\n",
       "│       Coordinates:\n",
       "│         * deptht         (k) float32 300B 0.5058 1.556 2.668 ... 5.698e+03 5.902e+03\n",
       "│           time_centered  (time_counter) datetime64[ns] 88B dask.array&lt;chunksize=(1,), meta=np.ndarray&gt;\n",
       "│           gphit          (j, i) float64 953kB dask.array&lt;chunksize=(331, 360), meta=np.ndarray&gt;\n",
       "│           glamt          (j, i) float64 953kB dask.array&lt;chunksize=(331, 360), meta=np.ndarray&gt;\n",
       "│         * k              (k) int64 600B 1 2 3 4 5 6 7 8 9 ... 68 69 70 71 72 73 74 75\n",
       "│         * j              (j) int64 3kB 1 2 3 4 5 6 7 8 ... 325 326 327 328 329 330 331\n",
       "│         * i              (i) int64 3kB 1 2 3 4 5 6 7 8 ... 354 355 356 357 358 359 360\n",
       "│       Data variables:\n",
       "│           thetao_con     (time_counter, k, j, i) float32 393MB dask.array&lt;chunksize=(1, 75, 331, 360), meta=np.ndarray&gt;\n",
       "│           e3t            (time_counter, k, j, i) float32 393MB dask.array&lt;chunksize=(1, 75, 331, 360), meta=np.ndarray&gt;\n",
       "│           e1t            (j, i) float64 953kB dask.array&lt;chunksize=(331, 360), meta=np.ndarray&gt;\n",
       "│           e2t            (j, i) float64 953kB dask.array&lt;chunksize=(331, 360), meta=np.ndarray&gt;\n",
       "│           top_level      (j, i) int32 477kB dask.array&lt;chunksize=(331, 360), meta=np.ndarray&gt;\n",
       "│           bottom_level   (j, i) int32 477kB dask.array&lt;chunksize=(331, 360), meta=np.ndarray&gt;\n",
       "│           tmask          (k, j, i) bool 9MB False False False ... False False False\n",
       "│       Attributes:\n",
       "│           nftype:   F\n",
       "│           iperio:   True\n",
       "├── Group: /gridU\n",
       "│       Dimensions:       (j: 331, i: 360, k: 75)\n",
       "│       Coordinates:\n",
       "│           gphiu         (j, i) float64 953kB dask.array&lt;chunksize=(331, 360), meta=np.ndarray&gt;\n",
       "│           glamu         (j, i) float64 953kB dask.array&lt;chunksize=(331, 360), meta=np.ndarray&gt;\n",
       "│         * k             (k) int64 600B 1 2 3 4 5 6 7 8 9 ... 68 69 70 71 72 73 74 75\n",
       "│         * j             (j) int64 3kB 1 2 3 4 5 6 7 8 ... 325 326 327 328 329 330 331\n",
       "│         * i             (i) float64 3kB 1.5 2.5 3.5 4.5 ... 357.5 358.5 359.5 360.5\n",
       "│       Data variables:\n",
       "│           e1u           (j, i) float64 953kB dask.array&lt;chunksize=(331, 360), meta=np.ndarray&gt;\n",
       "│           e2u           (j, i) float64 953kB dask.array&lt;chunksize=(331, 360), meta=np.ndarray&gt;\n",
       "│           umask         (k, j, i) bool 9MB False False False ... False False False\n",
       "│       Attributes:\n",
       "│           nftype:   F\n",
       "│           iperio:   True\n",
       "├── Group: /gridV\n",
       "│       Dimensions:       (j: 331, i: 360, k: 75)\n",
       "│       Coordinates:\n",
       "│           gphiv         (j, i) float64 953kB dask.array&lt;chunksize=(331, 360), meta=np.ndarray&gt;\n",
       "│           glamv         (j, i) float64 953kB dask.array&lt;chunksize=(331, 360), meta=np.ndarray&gt;\n",
       "│         * k             (k) int64 600B 1 2 3 4 5 6 7 8 9 ... 68 69 70 71 72 73 74 75\n",
       "│         * j             (j) float64 3kB 1.5 2.5 3.5 4.5 ... 328.5 329.5 330.5 331.5\n",
       "│         * i             (i) int64 3kB 1 2 3 4 5 6 7 8 ... 354 355 356 357 358 359 360\n",
       "│       Data variables:\n",
       "│           e1v           (j, i) float64 953kB dask.array&lt;chunksize=(331, 360), meta=np.ndarray&gt;\n",
       "│           e2v           (j, i) float64 953kB dask.array&lt;chunksize=(331, 360), meta=np.ndarray&gt;\n",
       "│           vmask         (k, j, i) bool 9MB False False False ... False False False\n",
       "│       Attributes:\n",
       "│           nftype:   F\n",
       "│           iperio:   True\n",
       "├── Group: /gridW\n",
       "│       Dimensions:       (j: 331, i: 360, k: 75)\n",
       "│       Coordinates:\n",
       "│           gphit         (j, i) float64 953kB dask.array&lt;chunksize=(331, 360), meta=np.ndarray&gt;\n",
       "│           glamt         (j, i) float64 953kB dask.array&lt;chunksize=(331, 360), meta=np.ndarray&gt;\n",
       "│         * k             (k) float64 600B 0.5 1.5 2.5 3.5 4.5 ... 71.5 72.5 73.5 74.5\n",
       "│         * j             (j) int64 3kB 1 2 3 4 5 6 7 8 ... 325 326 327 328 329 330 331\n",
       "│         * i             (i) int64 3kB 1 2 3 4 5 6 7 8 ... 354 355 356 357 358 359 360\n",
       "│       Data variables:\n",
       "│           e1t           (j, i) float64 953kB dask.array&lt;chunksize=(331, 360), meta=np.ndarray&gt;\n",
       "│           e2t           (j, i) float64 953kB dask.array&lt;chunksize=(331, 360), meta=np.ndarray&gt;\n",
       "│           wmask         (k, j, i) bool 9MB False False False ... False False False\n",
       "│       Attributes:\n",
       "│           nftype:   F\n",
       "│           iperio:   True\n",
       "└── Group: /gridF\n",
       "        Dimensions:       (j: 331, i: 360, k: 75)\n",
       "        Coordinates:\n",
       "            gphif         (j, i) float64 953kB dask.array&lt;chunksize=(331, 360), meta=np.ndarray&gt;\n",
       "            glamf         (j, i) float64 953kB dask.array&lt;chunksize=(331, 360), meta=np.ndarray&gt;\n",
       "          * k             (k) int64 600B 1 2 3 4 5 6 7 8 9 ... 68 69 70 71 72 73 74 75\n",
       "          * j             (j) float64 3kB 1.5 2.5 3.5 4.5 ... 328.5 329.5 330.5 331.5\n",
       "          * i             (i) float64 3kB 1.5 2.5 3.5 4.5 ... 357.5 358.5 359.5 360.5\n",
       "        Data variables:\n",
       "            e1f           (j, i) float64 953kB dask.array&lt;chunksize=(331, 360), meta=np.ndarray&gt;\n",
       "            e2f           (j, i) float64 953kB dask.array&lt;chunksize=(331, 360), meta=np.ndarray&gt;\n",
       "            fmask         (k, j, i) bool 9MB False False False ... False False False\n",
       "        Attributes:\n",
       "            nftype:   F\n",
       "            iperio:   True</pre>"
      ],
      "text/plain": [
       "<xarray.DataTree>\n",
       "Group: /\n",
       "│   Dimensions:        (time_counter: 11)\n",
       "│   Coordinates:\n",
       "│       time_centered  (time_counter) datetime64[ns] 88B dask.array<chunksize=(1,), meta=np.ndarray>\n",
       "│     * time_counter   (time_counter) datetime64[ns] 88B 2000-07-02 ... 2010-07-0...\n",
       "│   Attributes:\n",
       "│       nftype:   F\n",
       "│       iperio:   True\n",
       "├── Group: /gridT\n",
       "│       Dimensions:        (time_counter: 11, k: 75, j: 331, i: 360)\n",
       "│       Coordinates:\n",
       "│         * deptht         (k) float32 300B 0.5058 1.556 2.668 ... 5.698e+03 5.902e+03\n",
       "│           time_centered  (time_counter) datetime64[ns] 88B dask.array<chunksize=(1,), meta=np.ndarray>\n",
       "│           gphit          (j, i) float64 953kB dask.array<chunksize=(331, 360), meta=np.ndarray>\n",
       "│           glamt          (j, i) float64 953kB dask.array<chunksize=(331, 360), meta=np.ndarray>\n",
       "│         * k              (k) int64 600B 1 2 3 4 5 6 7 8 9 ... 68 69 70 71 72 73 74 75\n",
       "│         * j              (j) int64 3kB 1 2 3 4 5 6 7 8 ... 325 326 327 328 329 330 331\n",
       "│         * i              (i) int64 3kB 1 2 3 4 5 6 7 8 ... 354 355 356 357 358 359 360\n",
       "│       Data variables:\n",
       "│           thetao_con     (time_counter, k, j, i) float32 393MB dask.array<chunksize=(1, 75, 331, 360), meta=np.ndarray>\n",
       "│           e3t            (time_counter, k, j, i) float32 393MB dask.array<chunksize=(1, 75, 331, 360), meta=np.ndarray>\n",
       "│           e1t            (j, i) float64 953kB dask.array<chunksize=(331, 360), meta=np.ndarray>\n",
       "│           e2t            (j, i) float64 953kB dask.array<chunksize=(331, 360), meta=np.ndarray>\n",
       "│           top_level      (j, i) int32 477kB dask.array<chunksize=(331, 360), meta=np.ndarray>\n",
       "│           bottom_level   (j, i) int32 477kB dask.array<chunksize=(331, 360), meta=np.ndarray>\n",
       "│           tmask          (k, j, i) bool 9MB False False False ... False False False\n",
       "│       Attributes:\n",
       "│           nftype:   F\n",
       "│           iperio:   True\n",
       "├── Group: /gridU\n",
       "│       Dimensions:       (j: 331, i: 360, k: 75)\n",
       "│       Coordinates:\n",
       "│           gphiu         (j, i) float64 953kB dask.array<chunksize=(331, 360), meta=np.ndarray>\n",
       "│           glamu         (j, i) float64 953kB dask.array<chunksize=(331, 360), meta=np.ndarray>\n",
       "│         * k             (k) int64 600B 1 2 3 4 5 6 7 8 9 ... 68 69 70 71 72 73 74 75\n",
       "│         * j             (j) int64 3kB 1 2 3 4 5 6 7 8 ... 325 326 327 328 329 330 331\n",
       "│         * i             (i) float64 3kB 1.5 2.5 3.5 4.5 ... 357.5 358.5 359.5 360.5\n",
       "│       Data variables:\n",
       "│           e1u           (j, i) float64 953kB dask.array<chunksize=(331, 360), meta=np.ndarray>\n",
       "│           e2u           (j, i) float64 953kB dask.array<chunksize=(331, 360), meta=np.ndarray>\n",
       "│           umask         (k, j, i) bool 9MB False False False ... False False False\n",
       "│       Attributes:\n",
       "│           nftype:   F\n",
       "│           iperio:   True\n",
       "├── Group: /gridV\n",
       "│       Dimensions:       (j: 331, i: 360, k: 75)\n",
       "│       Coordinates:\n",
       "│           gphiv         (j, i) float64 953kB dask.array<chunksize=(331, 360), meta=np.ndarray>\n",
       "│           glamv         (j, i) float64 953kB dask.array<chunksize=(331, 360), meta=np.ndarray>\n",
       "│         * k             (k) int64 600B 1 2 3 4 5 6 7 8 9 ... 68 69 70 71 72 73 74 75\n",
       "│         * j             (j) float64 3kB 1.5 2.5 3.5 4.5 ... 328.5 329.5 330.5 331.5\n",
       "│         * i             (i) int64 3kB 1 2 3 4 5 6 7 8 ... 354 355 356 357 358 359 360\n",
       "│       Data variables:\n",
       "│           e1v           (j, i) float64 953kB dask.array<chunksize=(331, 360), meta=np.ndarray>\n",
       "│           e2v           (j, i) float64 953kB dask.array<chunksize=(331, 360), meta=np.ndarray>\n",
       "│           vmask         (k, j, i) bool 9MB False False False ... False False False\n",
       "│       Attributes:\n",
       "│           nftype:   F\n",
       "│           iperio:   True\n",
       "├── Group: /gridW\n",
       "│       Dimensions:       (j: 331, i: 360, k: 75)\n",
       "│       Coordinates:\n",
       "│           gphit         (j, i) float64 953kB dask.array<chunksize=(331, 360), meta=np.ndarray>\n",
       "│           glamt         (j, i) float64 953kB dask.array<chunksize=(331, 360), meta=np.ndarray>\n",
       "│         * k             (k) float64 600B 0.5 1.5 2.5 3.5 4.5 ... 71.5 72.5 73.5 74.5\n",
       "│         * j             (j) int64 3kB 1 2 3 4 5 6 7 8 ... 325 326 327 328 329 330 331\n",
       "│         * i             (i) int64 3kB 1 2 3 4 5 6 7 8 ... 354 355 356 357 358 359 360\n",
       "│       Data variables:\n",
       "│           e1t           (j, i) float64 953kB dask.array<chunksize=(331, 360), meta=np.ndarray>\n",
       "│           e2t           (j, i) float64 953kB dask.array<chunksize=(331, 360), meta=np.ndarray>\n",
       "│           wmask         (k, j, i) bool 9MB False False False ... False False False\n",
       "│       Attributes:\n",
       "│           nftype:   F\n",
       "│           iperio:   True\n",
       "└── Group: /gridF\n",
       "        Dimensions:       (j: 331, i: 360, k: 75)\n",
       "        Coordinates:\n",
       "            gphif         (j, i) float64 953kB dask.array<chunksize=(331, 360), meta=np.ndarray>\n",
       "            glamf         (j, i) float64 953kB dask.array<chunksize=(331, 360), meta=np.ndarray>\n",
       "          * k             (k) int64 600B 1 2 3 4 5 6 7 8 9 ... 68 69 70 71 72 73 74 75\n",
       "          * j             (j) float64 3kB 1.5 2.5 3.5 4.5 ... 328.5 329.5 330.5 331.5\n",
       "          * i             (i) float64 3kB 1.5 2.5 3.5 4.5 ... 357.5 358.5 359.5 360.5\n",
       "        Data variables:\n",
       "            e1f           (j, i) float64 953kB dask.array<chunksize=(331, 360), meta=np.ndarray>\n",
       "            e2f           (j, i) float64 953kB dask.array<chunksize=(331, 360), meta=np.ndarray>\n",
       "            fmask         (k, j, i) bool 9MB False False False ... False False False\n",
       "        Attributes:\n",
       "            nftype:   F\n",
       "            iperio:   True"
      ]
     },
     "execution_count": 4,
     "metadata": {},
     "output_type": "execute_result"
    }
   ],
   "source": [
    "# Define dictionary of grid datasets defining eORCA1 parent model domain with no child/grand-child nests:\n",
    "# Note: domain_cfg z-dimension is expected to be named 'nav_lev'.\n",
    "datasets = {\"parent\": {\"domain\": ds_domain.rename({\"z\": \"nav_lev\"}), \"gridT\": ds_gridT}}\n",
    "\n",
    "# Initialise a new NEMODataTree whose parent domain is zonally periodic & north-folding on F-points:\n",
    "nemo = NEMODataTree.from_datasets(datasets=datasets, iperio=True, nftype=\"F\")\n",
    "\n",
    "nemo"
   ]
  },
  {
   "cell_type": "markdown",
   "metadata": {},
   "source": [
    "### **Exploring our eORCA1 NEMO model vertical coordinate system**\n",
    "\n",
    "Let's begin by visualising the conservative temperature in the original vertical coordinates of our eORCA1 NPD simulation by plotting a vertical profile at a location in the North Atlantic Ocean:\n"
   ]
  },
  {
   "cell_type": "markdown",
   "metadata": {},
   "source": [
    "**By examining the vertical profile & the size of the `k` grid coordinate variable, we can see that our eORCA1 configuration has 75 unevenly-spaced z\\*-coordinate levels.**"
   ]
  },
  {
   "cell_type": "code",
   "execution_count": 5,
   "metadata": {},
   "outputs": [
    {
     "name": "stdout",
     "output_type": "stream",
     "text": [
      "75\n"
     ]
    },
    {
     "data": {
      "image/png": "[encoded data removed]",
      "text/plain": [
       "<Figure size 640x480 with 1 Axes>"
      ]
     },
     "metadata": {},
     "output_type": "display_data"
    }
   ],
   "source": [
    "# Plot an example time-mean vertical conservative temperature profile in the subpolar North Atlantic:\n",
    "nemo['/gridT']['thetao_con'].isel(i=260, j=260, time_counter=0).plot(y='deptht', ylim=(3600, 0), marker='o')\n",
    "\n",
    "# Size of the vertical coordinate dimension:\n",
    "print(nemo['/gridT']['k'].size)"
   ]
  },
  {
   "cell_type": "markdown",
   "metadata": {},
   "source": [
    "### **Transforming the eORCA1 vertical coordinate system**\n",
    "\n",
    "**Next, let's apply a conservative vertical coordinate transformation to remap our conservative temperature output to a new regularly-spaced (200 m) vertical grid:**"
   ]
  },
  {
   "cell_type": "code",
   "execution_count": 6,
   "metadata": {},
   "outputs": [
    {
     "data": {
      "text/html": [
       "<pre>&lt;xarray.DataArray (k_new: 30)&gt; Size: 240B\n",
       "array([200., 200., 200., 200., 200., 200., 200., 200., 200., 200., 200.,\n",
       "       200., 200., 200., 200., 200., 200., 200., 200., 200., 200., 200.,\n",
       "       200., 200., 200., 200., 200., 200., 200., 200.])\n",
       "Dimensions without coordinates: k_new</pre>"
      ],
      "text/plain": [
       "<xarray.DataArray (k_new: 30)> Size: 240B\n",
       "array([200., 200., 200., 200., 200., 200., 200., 200., 200., 200., 200.,\n",
       "       200., 200., 200., 200., 200., 200., 200., 200., 200., 200., 200.,\n",
       "       200., 200., 200., 200., 200., 200., 200., 200.])\n",
       "Dimensions without coordinates: k_new"
      ]
     },
     "execution_count": 6,
     "metadata": {},
     "output_type": "execute_result"
    }
   ],
   "source": [
    "# Define our target vertical grid coordinate:\n",
    "e3t_target = xr.DataArray(np.repeat(200.0, 30), dims=['k_new'])\n",
    "\n",
    "e3t_target"
   ]
  },
  {
   "cell_type": "code",
   "execution_count": 7,
   "metadata": {},
   "outputs": [
    {
     "data": {
      "text/html": [
       "<pre>&lt;xarray.Dataset&gt; Size: 631MB\n",
       "Dimensions:        (time_counter: 11, j: 331, i: 360, k_new: 30)\n",
       "Coordinates:\n",
       "  * time_counter   (time_counter) datetime64[ns] 88B 2000-07-02 ... 2010-07-0...\n",
       "    time_centered  (time_counter) datetime64[ns] 88B dask.array&lt;chunksize=(1,), meta=np.ndarray&gt;\n",
       "    gphit          (j, i) float64 953kB dask.array&lt;chunksize=(331, 360), meta=np.ndarray&gt;\n",
       "    glamt          (j, i) float64 953kB dask.array&lt;chunksize=(331, 360), meta=np.ndarray&gt;\n",
       "  * j              (j) int64 3kB 1 2 3 4 5 6 7 8 ... 325 326 327 328 329 330 331\n",
       "  * i              (i) int64 3kB 1 2 3 4 5 6 7 8 ... 354 355 356 357 358 359 360\n",
       "    deptht_new     (k_new) float64 240B 200.0 400.0 600.0 ... 5.8e+03 6e+03\n",
       "Dimensions without coordinates: k_new\n",
       "Data variables:\n",
       "    thetao_con     (time_counter, k_new, j, i) float64 315MB dask.array&lt;chunksize=(1, 30, 331, 360), meta=np.ndarray&gt;\n",
       "    e3t_new        (time_counter, j, i, k_new) float64 315MB dask.array&lt;chunksize=(1, 331, 360, 30), meta=np.ndarray&gt;</pre>"
      ],
      "text/plain": [
       "<xarray.Dataset> Size: 631MB\n",
       "Dimensions:        (time_counter: 11, j: 331, i: 360, k_new: 30)\n",
       "Coordinates:\n",
       "  * time_counter   (time_counter) datetime64[ns] 88B 2000-07-02 ... 2010-07-0...\n",
       "    time_centered  (time_counter) datetime64[ns] 88B dask.array<chunksize=(1,), meta=np.ndarray>\n",
       "    gphit          (j, i) float64 953kB dask.array<chunksize=(331, 360), meta=np.ndarray>\n",
       "    glamt          (j, i) float64 953kB dask.array<chunksize=(331, 360), meta=np.ndarray>\n",
       "  * j              (j) int64 3kB 1 2 3 4 5 6 7 8 ... 325 326 327 328 329 330 331\n",
       "  * i              (i) int64 3kB 1 2 3 4 5 6 7 8 ... 354 355 356 357 358 359 360\n",
       "    deptht_new     (k_new) float64 240B 200.0 400.0 600.0 ... 5.8e+03 6e+03\n",
       "Dimensions without coordinates: k_new\n",
       "Data variables:\n",
       "    thetao_con     (time_counter, k_new, j, i) float64 315MB dask.array<chunksize=(1, 30, 331, 360), meta=np.ndarray>\n",
       "    e3t_new        (time_counter, j, i, k_new) float64 315MB dask.array<chunksize=(1, 331, 360, 30), meta=np.ndarray>"
      ]
     },
     "execution_count": 7,
     "metadata": {},
     "output_type": "execute_result"
    }
   ],
   "source": [
    "# Transform eORCA1 3-dimensional conservative temperature field to new vertical coordinate system:\n",
    "ds_k_transform = nemo.transform_vertical_grid(grid = '/gridT',\n",
    "                                              var = 'thetao_con',\n",
    "                                              e3_new = e3t_target\n",
    "                                              )\n",
    "\n",
    "ds_k_transform"
   ]
  },
  {
   "cell_type": "markdown",
   "metadata": {},
   "source": [
    "**Notice that the output above returns a Dataset containing two DataArrays: the vertically remapped conservative temperature `thetao_con` and the vertical grid cell thicknesses `e3t_out` (accounting for partial grid cell at the sea floor).**\n",
    "\n",
    "**Since both of these DataArrays contain dask arrays, we haven't actually computed anything yet. To do this, we need to call the ``.compute()`` method:**\n"
   ]
  },
  {
   "cell_type": "code",
   "execution_count": 8,
   "metadata": {},
   "outputs": [],
   "source": [
    "ds_k_transform = ds_k_transform.compute()"
   ]
  },
  {
   "cell_type": "markdown",
   "metadata": {},
   "source": [
    "### **Visualising the vertically transformed conservative temperature field**\n",
    "\n",
    "**Let's plot the original and vertically transformed conservative temperature profiles together.**"
   ]
  },
  {
   "cell_type": "code",
   "execution_count": 9,
   "metadata": {},
   "outputs": [
    {
     "data": {
      "text/plain": [
       "[<matplotlib.lines.Line2D at 0x30ff7b890>]"
      ]
     },
     "execution_count": 9,
     "metadata": {},
     "output_type": "execute_result"
    },
    {
     "data": {
      "image/png": "[encoded data removed]",
      "text/plain": [
       "<Figure size 640x480 with 1 Axes>"
      ]
     },
     "metadata": {},
     "output_type": "display_data"
    }
   ],
   "source": [
    "# Plot our original time-mean vertical conservative temperature profile in the subpolar North Atlantic:\n",
    "nemo['/gridT']['thetao_con'].isel(i=260, j=260, time_counter=0).plot(y='deptht', ylim=(3600, 0), marker='o', color='dodgerblue')\n",
    "\n",
    "# Plot our vertically transformed time-mean vertical conservative temperature profile in the subpolar North Atlantic:\n",
    "ds_k_transform['thetao_con'].isel(i=260, j=260, time_counter=0).plot(y='deptht_new', ylim=(3600, 0), marker='o', color='coral')"
   ]
  },
  {
   "cell_type": "markdown",
   "metadata": {},
   "source": [
    "**We can also verify that the product of the vertical grid cell thickness (m) and conservative temperature (C) is conserved following the transformation.**\n",
    "\n",
    "**Note that we need to transform all variables to a consistent `dtype` (in this case float64) before making the comparison.**"
   ]
  },
  {
   "cell_type": "code",
   "execution_count": 10,
   "metadata": {},
   "outputs": [
    {
     "name": "stdout",
     "output_type": "stream",
     "text": [
      "<xarray.DataArray ()> Size: 8B\n",
      "array(14272.51116587)\n",
      "Coordinates:\n",
      "    time_counter   datetime64[ns] 8B 2000-07-02\n",
      "    time_centered  datetime64[ns] 8B 2000-07-02\n",
      "    gphit          float64 8B 51.34\n",
      "    glamt          float64 8B -26.44\n",
      "    j              int64 8B 261\n",
      "    i              int64 8B 261\n",
      "<xarray.DataArray ()> Size: 8B\n",
      "array(14272.51116587)\n",
      "Coordinates:\n",
      "    time_counter   datetime64[ns] 8B 2000-07-02\n",
      "    time_centered  datetime64[ns] 8B 2000-07-02\n",
      "    gphit          float64 8B 51.34\n",
      "    glamt          float64 8B -26.44\n",
      "    j              int64 8B 261\n",
      "    i              int64 8B 261\n"
     ]
    }
   ],
   "source": [
    "# Calculate the sum of the product of the transformed conservative temperature and cell thickness at our example location:\n",
    "print((ds_k_transform['thetao_con'].isel(time_counter=0, i=260, j=260).astype(np.float64) * ds_k_transform['e3t_new'].isel(time_counter=0, i=260, j=260).astype(np.float64)).sum().compute())\n",
    "\n",
    "# Calculate the sum of the product of the original conservative temperature and cell thickness at our example location:\n",
    "print((nemo['/gridT']['thetao_con'].isel(time_counter=0, i=260, j=260).astype(np.float64) * nemo['/gridT']['e3t'].isel(time_counter=0, i=260, j=260).astype(np.float64)).sum().compute())"
   ]
  }
 ],
 "metadata": {
  "kernelspec": {
   "display_name": "env_nemo_cookbook",
   "language": "python",
   "name": "python3"
  },
  "language_info": {
   "codemirror_mode": {
    "name": "ipython",
    "version": 3
   },
   "file_extension": ".py",
   "mimetype": "text/x-python",
   "name": "python",
   "nbconvert_exporter": "python",
   "pygments_lexer": "ipython3",
   "version": "3.13.5"
  }
 },
 "nbformat": 4,
 "nbformat_minor": 2
}
