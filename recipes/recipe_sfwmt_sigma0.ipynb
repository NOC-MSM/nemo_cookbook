{
 "cells": [
  {
   "cell_type": "markdown",
   "metadata": {},
   "source": [
    "## **Calculating the surface-forced water mass transformation in potential density coordinates**\n",
    "\n",
    "### **Description**\n",
    "\n",
    "This recipe shows how to calculate the surface-forced water mass transformation in potential density-coordinates using annual-mean outputs from the National Oceanography Centre Near-Present-Day global eORCA1 configuration of NEMO forced using JRA55-do from 1976-2024.\n",
    "\n",
    "For more details on this model configuration and the available outputs, users can explore the Near-Present-Day documentation [here](https://noc-msm.github.io/NOC_Near_Present_Day/).\n",
    "\n",
    "---\n",
    "### **Background:**\n",
    "The surface-forced diapycnal water mass transformation is used to quantify the volume flux across isopycnal outcrops due to surface buoyancy fluxes and can be defined at time $t$ as follows:\n",
    "\n",
    "First, we computing the surface density flux due to the fluxes of heat $Q_H$ (W m-2) and freshwater $Q_{FW}$ (kg m-2 s-1) at the sea surface following\n",
    "Speer and Tziperman (1992):\n",
    "\n",
    "$$f(\\lambda, \\phi, t) = -\\frac{\\alpha}{c_{p}} Q_{H}(\\lambda, \\phi, t) + \\beta \\frac{S(\\lambda, \\phi, t)}{1 - S(\\lambda, \\phi, t)} Q_{FW}(\\lambda, \\phi, t)$$\n",
    "\n",
    "where $\\alpha$ is the thermal expansion coefficient, $\\beta$ is the haline contraction coefficient, $c_p$ is the specific heat capacity of seawater and $S$ is the sea surface salinity. Notably, a positive surface density flux (i.e., $f(\\lambda, \\phi, t)$ > 0 kg m−2 s−1) represents an increase in sea surface density.\n",
    "\n",
    "We then calculate the surface-forced diapycnal water mass transformation $H(\\sigma^{*}, t)$ across an outcropping isopycnal surface by integrating the surface density flux over the area of each surface density outcrop $\\sigma^{*}$:\n",
    "\n",
    "$$H(\\sigma^{*}, t) = \\frac{1}{\\Delta \\sigma} \\int \\int f(\\lambda, \\phi, t) \\ \\Pi(\\sigma^{*}(\\lambda, \\phi, t)) \\ \\ dx \\ dy$$\n",
    "\n",
    "where the $\\Pi(\\sigma^{*}(\\lambda, \\phi, t))$ operator is 1 when $|\\sigma^{*}(\\lambda, \\phi, t) - \\sigma| \\leq \\frac{\\Delta \\sigma}{2}$ and 0 elsewhere.\n",
    "\n",
    "---"
   ]
  },
  {
   "cell_type": "code",
   "execution_count": 1,
   "metadata": {},
   "outputs": [
    {
     "data": {
      "text/plain": [
       "<xarray.core.options.set_options at 0x1764b3cb0>"
      ]
     },
     "execution_count": 1,
     "metadata": {},
     "output_type": "execute_result"
    }
   ],
   "source": [
    "# -- Import required packages -- #\n",
    "import gsw\n",
    "import numpy as np\n",
    "import pandas as pd\n",
    "import xarray as xr\n",
    "import matplotlib.pyplot as plt\n",
    "from nemo_cookbook import NEMODataTree\n",
    "\n",
    "xr.set_options(display_style=\"text\")"
   ]
  },
  {
   "cell_type": "markdown",
   "metadata": {},
   "source": [
    "### **Using Dask**\n",
    "\n",
    "**Optional: Connect Client to Dask Local Cluster to run analysis in parallel.**\n",
    "\n",
    "Note that, although using Dask is not strictly necessary for this simple example using eORCA1, if we wanted to generalise this recipe to eORCA025 or eORCA12 outputs, using Dask would be essential to avoid unnecessary slow calculations using only a single process."
   ]
  },
  {
   "cell_type": "code",
   "execution_count": null,
   "metadata": {},
   "outputs": [],
   "source": [
    "# -- Initialise Dask Local Cluster -- #\n",
    "import os\n",
    "import dask\n",
    "from dask.distributed import Client, LocalCluster\n",
    "\n",
    "# Update temporary directory for Dask workers:\n",
    "dask.config.set({'temporary_directory': f\"{os.getcwd()}/dask_tmp\",\n",
    "                 'local_directory': f\"{os.getcwd()}/dask_tmp\"\n",
    "                 })\n",
    "\n",
    "# Create Local Cluster:\n",
    "cluster = LocalCluster(n_workers=4, threads_per_worker=3, memory_limit='5GB')\n",
    "client = Client(cluster)\n",
    "client"
   ]
  },
  {
   "cell_type": "markdown",
   "metadata": {},
   "source": [
    "### **Accessing IHO World Seas polygons**\n",
    "**Let's begin by loading the polygons defining the IHO World Seas regions**. \n"
   ]
  },
  {
   "cell_type": "code",
   "execution_count": 2,
   "metadata": {},
   "outputs": [
    {
     "data": {
      "text/html": [
       "<div>\n",
       "<style scoped>\n",
       "    .dataframe tbody tr th:only-of-type {\n",
       "        vertical-align: middle;\n",
       "    }\n",
       "\n",
       "    .dataframe tbody tr th {\n",
       "        vertical-align: top;\n",
       "    }\n",
       "\n",
       "    .dataframe thead th {\n",
       "        text-align: right;\n",
       "    }\n",
       "</style>\n",
       "<table border=\"1\" class=\"dataframe\">\n",
       "  <thead>\n",
       "    <tr style=\"text-align: right;\">\n",
       "      <th></th>\n",
       "      <th>ID</th>\n",
       "      <th>Name</th>\n",
       "      <th>MRGID</th>\n",
       "      <th>Longitudes</th>\n",
       "      <th>Latitudes</th>\n",
       "    </tr>\n",
       "  </thead>\n",
       "  <tbody>\n",
       "    <tr>\n",
       "      <th>0</th>\n",
       "      <td>0</td>\n",
       "      <td>Rio de La Plata</td>\n",
       "      <td>4325</td>\n",
       "      <td>[[-54.943023652717045, -54.978746687192626, -5...</td>\n",
       "      <td>[[-34.947906883078645, -34.97439280639835, -35...</td>\n",
       "    </tr>\n",
       "    <tr>\n",
       "      <th>1</th>\n",
       "      <td>1</td>\n",
       "      <td>Bass Strait</td>\n",
       "      <td>4366</td>\n",
       "      <td>[[149.90464234356938, 149.9049998519617, 149.9...</td>\n",
       "      <td>[[-37.54324781853184, -37.54805552943908, -37....</td>\n",
       "    </tr>\n",
       "    <tr>\n",
       "      <th>2</th>\n",
       "      <td>2</td>\n",
       "      <td>Great Australian Bight</td>\n",
       "      <td>4276</td>\n",
       "      <td>[[143.53250818354263, 143.54855731580784, 143....</td>\n",
       "      <td>[[-38.855345058560204, -38.89580867390668, -38...</td>\n",
       "    </tr>\n",
       "    <tr>\n",
       "      <th>3</th>\n",
       "      <td>3</td>\n",
       "      <td>Tasman Sea</td>\n",
       "      <td>4365</td>\n",
       "      <td>[[159.03333000000018, 159.03983414634163, 159....</td>\n",
       "      <td>[[-29.999999999999986, -30.043495934959335, -3...</td>\n",
       "    </tr>\n",
       "    <tr>\n",
       "      <th>4</th>\n",
       "      <td>4</td>\n",
       "      <td>Mozambique Channel</td>\n",
       "      <td>4261</td>\n",
       "      <td>[[43.38217926066437, 43.426910578414024, 43.47...</td>\n",
       "      <td>[[-11.370205640977488, -11.374667237992885, -1...</td>\n",
       "    </tr>\n",
       "    <tr>\n",
       "      <th>...</th>\n",
       "      <td>...</td>\n",
       "      <td>...</td>\n",
       "      <td>...</td>\n",
       "      <td>...</td>\n",
       "      <td>...</td>\n",
       "    </tr>\n",
       "    <tr>\n",
       "      <th>96</th>\n",
       "      <td>96</td>\n",
       "      <td>Laccadive Sea</td>\n",
       "      <td>4269</td>\n",
       "      <td>[[79.19056582495296, 79.20560240772511, 79.205...</td>\n",
       "      <td>[[9.28162992038466, 9.280296445224849, 9.28018...</td>\n",
       "    </tr>\n",
       "    <tr>\n",
       "      <th>97</th>\n",
       "      <td>97</td>\n",
       "      <td>Skagerrak</td>\n",
       "      <td>2379</td>\n",
       "      <td>[[10.66160702664314, 10.662945270907699, 10.66...</td>\n",
       "      <td>[[59.91287636715083, 59.910394549469004, 59.90...</td>\n",
       "    </tr>\n",
       "    <tr>\n",
       "      <th>98</th>\n",
       "      <td>98</td>\n",
       "      <td>Norwegian Sea</td>\n",
       "      <td>2353</td>\n",
       "      <td>[[16.72106314339885, 16.78890655530549, 16.856...</td>\n",
       "      <td>[[76.5645473926769, 76.50603497544391, 76.4475...</td>\n",
       "    </tr>\n",
       "    <tr>\n",
       "      <th>99</th>\n",
       "      <td>99</td>\n",
       "      <td>Ligurian Sea</td>\n",
       "      <td>3363</td>\n",
       "      <td>[[9.834412487214706, 9.835301503777828, 9.8349...</td>\n",
       "      <td>[[44.0485148685363, 44.04729517147973, 44.0472...</td>\n",
       "    </tr>\n",
       "    <tr>\n",
       "      <th>100</th>\n",
       "      <td>100</td>\n",
       "      <td>Gulf of Guinea</td>\n",
       "      <td>4286</td>\n",
       "      <td>[[8.975150969002156, 8.974166710829394, 8.9742...</td>\n",
       "      <td>[[-0.935921075698605, -0.9360325715092586, -0....</td>\n",
       "    </tr>\n",
       "  </tbody>\n",
       "</table>\n",
       "<p>101 rows × 5 columns</p>\n",
       "</div>"
      ],
      "text/plain": [
       "      ID                    Name  MRGID  \\\n",
       "0      0         Rio de La Plata   4325   \n",
       "1      1             Bass Strait   4366   \n",
       "2      2  Great Australian Bight   4276   \n",
       "3      3              Tasman Sea   4365   \n",
       "4      4      Mozambique Channel   4261   \n",
       "..   ...                     ...    ...   \n",
       "96    96           Laccadive Sea   4269   \n",
       "97    97               Skagerrak   2379   \n",
       "98    98           Norwegian Sea   2353   \n",
       "99    99            Ligurian Sea   3363   \n",
       "100  100          Gulf of Guinea   4286   \n",
       "\n",
       "                                            Longitudes  \\\n",
       "0    [[-54.943023652717045, -54.978746687192626, -5...   \n",
       "1    [[149.90464234356938, 149.9049998519617, 149.9...   \n",
       "2    [[143.53250818354263, 143.54855731580784, 143....   \n",
       "3    [[159.03333000000018, 159.03983414634163, 159....   \n",
       "4    [[43.38217926066437, 43.426910578414024, 43.47...   \n",
       "..                                                 ...   \n",
       "96   [[79.19056582495296, 79.20560240772511, 79.205...   \n",
       "97   [[10.66160702664314, 10.662945270907699, 10.66...   \n",
       "98   [[16.72106314339885, 16.78890655530549, 16.856...   \n",
       "99   [[9.834412487214706, 9.835301503777828, 9.8349...   \n",
       "100  [[8.975150969002156, 8.974166710829394, 8.9742...   \n",
       "\n",
       "                                             Latitudes  \n",
       "0    [[-34.947906883078645, -34.97439280639835, -35...  \n",
       "1    [[-37.54324781853184, -37.54805552943908, -37....  \n",
       "2    [[-38.855345058560204, -38.89580867390668, -38...  \n",
       "3    [[-29.999999999999986, -30.043495934959335, -3...  \n",
       "4    [[-11.370205640977488, -11.374667237992885, -1...  \n",
       "..                                                 ...  \n",
       "96   [[9.28162992038466, 9.280296445224849, 9.28018...  \n",
       "97   [[59.91287636715083, 59.910394549469004, 59.90...  \n",
       "98   [[76.5645473926769, 76.50603497544391, 76.4475...  \n",
       "99   [[44.0485148685363, 44.04729517147973, 44.0472...  \n",
       "100  [[-0.935921075698605, -0.9360325715092586, -0....  \n",
       "\n",
       "[101 rows x 5 columns]"
      ]
     },
     "execution_count": 2,
     "metadata": {},
     "output_type": "execute_result"
    }
   ],
   "source": [
    "# Open IHO World Seas polygons from GitHub as Pandas DataFrame:\n",
    "IHO_World_Seas_filepath = \"https://raw.githubusercontent.com/NOC-MSM/nemo_cookbook/main/docs/docs/assets/data/World_Seas_IHO_v3_polygons.parquet\"\n",
    "\n",
    "df_IHO_World_Seas = pd.read_parquet(IHO_World_Seas_filepath)\n",
    "df_IHO_World_Seas"
   ]
  },
  {
   "cell_type": "markdown",
   "metadata": {},
   "source": [
    "### **Accessing NEMO Model Data**\n",
    "**Let's begin by loading the grid variables for our eORCA1 NEMO model from the [JASMIN Object Store](https://help.jasmin.ac.uk/docs/short-term-project-storage/using-the-jasmin-object-store/)**. \n",
    "\n",
    "**Alternatively, you can replace the ``domain_filepath`` below with a file path to your domain_cfg.nc file and read this with xarray's ``open_dataset()`` function.**"
   ]
  },
  {
   "cell_type": "code",
   "execution_count": 3,
   "metadata": {},
   "outputs": [
    {
     "data": {
      "text/html": [
       "<pre>&lt;xarray.Dataset&gt; Size: 667MB\n",
       "Dimensions:        (t: 1, y: 331, x: 360, z: 75)\n",
       "Dimensions without coordinates: t, y, x, z\n",
       "Data variables: (12/54)\n",
       "    e1t            (t, y, x) float64 953kB dask.array&lt;chunksize=(1, 331, 360), meta=np.ndarray&gt;\n",
       "    e2v            (t, y, x) float64 953kB dask.array&lt;chunksize=(1, 331, 360), meta=np.ndarray&gt;\n",
       "    bottom_level   (t, y, x) int32 477kB dask.array&lt;chunksize=(1, 331, 360), meta=np.ndarray&gt;\n",
       "    e2t            (t, y, x) float64 953kB dask.array&lt;chunksize=(1, 331, 360), meta=np.ndarray&gt;\n",
       "    e2u            (t, y, x) float64 953kB dask.array&lt;chunksize=(1, 331, 360), meta=np.ndarray&gt;\n",
       "    bathy_metry    (t, y, x) float32 477kB dask.array&lt;chunksize=(1, 331, 360), meta=np.ndarray&gt;\n",
       "    ...             ...\n",
       "    nav_lev        (z) float32 300B dask.array&lt;chunksize=(75,), meta=np.ndarray&gt;\n",
       "    mask_csundef   (t, y, x) int32 477kB dask.array&lt;chunksize=(1, 331, 360), meta=np.ndarray&gt;\n",
       "    nav_lat        (y, x) float32 477kB dask.array&lt;chunksize=(331, 360), meta=np.ndarray&gt;\n",
       "    nav_lon        (y, x) float32 477kB dask.array&lt;chunksize=(331, 360), meta=np.ndarray&gt;\n",
       "    time_counter   (t) float64 8B dask.array&lt;chunksize=(1,), meta=np.ndarray&gt;\n",
       "    top_level      (t, y, x) int32 477kB dask.array&lt;chunksize=(1, 331, 360), meta=np.ndarray&gt;\n",
       "Attributes:\n",
       "    DOMAIN_number_total:     1\n",
       "    DOMAIN_number:           0\n",
       "    DOMAIN_dimensions_ids:   [1, 2]\n",
       "    DOMAIN_size_global:      [362, 332]\n",
       "    DOMAIN_size_local:       [362, 332]\n",
       "    DOMAIN_position_first:   [1, 1]\n",
       "    DOMAIN_position_last:    [362, 332]\n",
       "    DOMAIN_halo_size_start:  [0, 0]\n",
       "    DOMAIN_halo_size_end:    [0, 0]\n",
       "    DOMAIN_type:             BOX\n",
       "    history:                 Mon Jun  5 12:41:32 2023: ncks -A mask.nc ORCA1_...\n",
       "    NCO:                     4.4.7</pre>"
      ],
      "text/plain": [
       "<xarray.Dataset> Size: 667MB\n",
       "Dimensions:        (t: 1, y: 331, x: 360, z: 75)\n",
       "Dimensions without coordinates: t, y, x, z\n",
       "Data variables: (12/54)\n",
       "    e1t            (t, y, x) float64 953kB dask.array<chunksize=(1, 331, 360), meta=np.ndarray>\n",
       "    e2v            (t, y, x) float64 953kB dask.array<chunksize=(1, 331, 360), meta=np.ndarray>\n",
       "    bottom_level   (t, y, x) int32 477kB dask.array<chunksize=(1, 331, 360), meta=np.ndarray>\n",
       "    e2t            (t, y, x) float64 953kB dask.array<chunksize=(1, 331, 360), meta=np.ndarray>\n",
       "    e2u            (t, y, x) float64 953kB dask.array<chunksize=(1, 331, 360), meta=np.ndarray>\n",
       "    bathy_metry    (t, y, x) float32 477kB dask.array<chunksize=(1, 331, 360), meta=np.ndarray>\n",
       "    ...             ...\n",
       "    nav_lev        (z) float32 300B dask.array<chunksize=(75,), meta=np.ndarray>\n",
       "    mask_csundef   (t, y, x) int32 477kB dask.array<chunksize=(1, 331, 360), meta=np.ndarray>\n",
       "    nav_lat        (y, x) float32 477kB dask.array<chunksize=(331, 360), meta=np.ndarray>\n",
       "    nav_lon        (y, x) float32 477kB dask.array<chunksize=(331, 360), meta=np.ndarray>\n",
       "    time_counter   (t) float64 8B dask.array<chunksize=(1,), meta=np.ndarray>\n",
       "    top_level      (t, y, x) int32 477kB dask.array<chunksize=(1, 331, 360), meta=np.ndarray>\n",
       "Attributes:\n",
       "    DOMAIN_number_total:     1\n",
       "    DOMAIN_number:           0\n",
       "    DOMAIN_dimensions_ids:   [1, 2]\n",
       "    DOMAIN_size_global:      [362, 332]\n",
       "    DOMAIN_size_local:       [362, 332]\n",
       "    DOMAIN_position_first:   [1, 1]\n",
       "    DOMAIN_position_last:    [362, 332]\n",
       "    DOMAIN_halo_size_start:  [0, 0]\n",
       "    DOMAIN_halo_size_end:    [0, 0]\n",
       "    DOMAIN_type:             BOX\n",
       "    history:                 Mon Jun  5 12:41:32 2023: ncks -A mask.nc ORCA1_...\n",
       "    NCO:                     4.4.7"
      ]
     },
     "execution_count": 3,
     "metadata": {},
     "output_type": "execute_result"
    }
   ],
   "source": [
    "# Define directory path to ancillary files:\n",
    "domain_filepath = \"https://noc-msm-o.s3-ext.jc.rl.ac.uk/npd-eorca1-jra55v1/domain/domain_cfg\"\n",
    "\n",
    "# Open eORCA1 NEMO model domain_cfg:\n",
    "ds_domain = xr.open_zarr(domain_filepath, consolidated=True, chunks={})\n",
    "\n",
    "ds_domain"
   ]
  },
  {
   "cell_type": "markdown",
   "metadata": {},
   "source": [
    "**Next, we need to import the sea surface temperature and salinity and net surface heat and freshwater fluxes stored at T-points in a single dataset.**"
   ]
  },
  {
   "cell_type": "code",
   "execution_count": 4,
   "metadata": {},
   "outputs": [
    {
     "data": {
      "text/html": [
       "<pre>&lt;xarray.Dataset&gt; Size: 93MB\n",
       "Dimensions:        (y: 331, x: 360, time_counter: 48)\n",
       "Coordinates:\n",
       "    nav_lat        (y, x) float64 953kB dask.array&lt;chunksize=(331, 360), meta=np.ndarray&gt;\n",
       "    nav_lon        (y, x) float64 953kB dask.array&lt;chunksize=(331, 360), meta=np.ndarray&gt;\n",
       "    time_centered  (time_counter) datetime64[ns] 384B dask.array&lt;chunksize=(1,), meta=np.ndarray&gt;\n",
       "  * time_counter   (time_counter) datetime64[ns] 384B 1976-07-02 ... 2023-07-...\n",
       "Dimensions without coordinates: y, x\n",
       "Data variables:\n",
       "    tos_con        (time_counter, y, x) float32 23MB dask.array&lt;chunksize=(1, 331, 360), meta=np.ndarray&gt;\n",
       "    sos_abs        (time_counter, y, x) float32 23MB dask.array&lt;chunksize=(1, 331, 360), meta=np.ndarray&gt;\n",
       "    hfds           (time_counter, y, x) float32 23MB dask.array&lt;chunksize=(1, 331, 360), meta=np.ndarray&gt;\n",
       "    sowaflup       (time_counter, y, x) float32 23MB dask.array&lt;chunksize=(1, 331, 360), meta=np.ndarray&gt;\n",
       "Attributes:\n",
       "    cell_methods:        time: mean (interval: 3600 s)\n",
       "    interval_operation:  3600 s\n",
       "    interval_write:      1 yr\n",
       "    long_name:           sea_surface_conservative_temperature\n",
       "    online_operation:    average\n",
       "    standard_name:       sea_surface_temperature\n",
       "    units:               degC</pre>"
      ],
      "text/plain": [
       "<xarray.Dataset> Size: 93MB\n",
       "Dimensions:        (y: 331, x: 360, time_counter: 48)\n",
       "Coordinates:\n",
       "    nav_lat        (y, x) float64 953kB dask.array<chunksize=(331, 360), meta=np.ndarray>\n",
       "    nav_lon        (y, x) float64 953kB dask.array<chunksize=(331, 360), meta=np.ndarray>\n",
       "    time_centered  (time_counter) datetime64[ns] 384B dask.array<chunksize=(1,), meta=np.ndarray>\n",
       "  * time_counter   (time_counter) datetime64[ns] 384B 1976-07-02 ... 2023-07-...\n",
       "Dimensions without coordinates: y, x\n",
       "Data variables:\n",
       "    tos_con        (time_counter, y, x) float32 23MB dask.array<chunksize=(1, 331, 360), meta=np.ndarray>\n",
       "    sos_abs        (time_counter, y, x) float32 23MB dask.array<chunksize=(1, 331, 360), meta=np.ndarray>\n",
       "    hfds           (time_counter, y, x) float32 23MB dask.array<chunksize=(1, 331, 360), meta=np.ndarray>\n",
       "    sowaflup       (time_counter, y, x) float32 23MB dask.array<chunksize=(1, 331, 360), meta=np.ndarray>\n",
       "Attributes:\n",
       "    cell_methods:        time: mean (interval: 3600 s)\n",
       "    interval_operation:  3600 s\n",
       "    interval_write:      1 yr\n",
       "    long_name:           sea_surface_conservative_temperature\n",
       "    online_operation:    average\n",
       "    standard_name:       sea_surface_temperature\n",
       "    units:               degC"
      ]
     },
     "execution_count": 4,
     "metadata": {},
     "output_type": "execute_result"
    }
   ],
   "source": [
    "# Define directory path to model output files:\n",
    "output_dir = \"https://noc-msm-o.s3-ext.jc.rl.ac.uk/npd-eorca1-jra55v1/T1y\"\n",
    "\n",
    "# Construct NEMO model grid dataset, including vertical grid cell thicknesses (m) and meridional velocities (m/s):\n",
    "ds_gridT = xr.merge([xr.open_zarr(f\"{output_dir}/{var}\", consolidated=True, chunks={})[var] for var in ['tos_con', 'sos_abs', 'hfds', 'sowaflup']], compat=\"override\")\n",
    "\n",
    "ds_gridT"
   ]
  },
  {
   "cell_type": "code",
   "execution_count": 5,
   "metadata": {},
   "outputs": [
    {
     "data": {
      "text/html": [
       "<pre>&lt;xarray.Dataset&gt; Size: 25MB\n",
       "Dimensions:        (y: 331, x: 360, time_counter: 48)\n",
       "Coordinates:\n",
       "    nav_lat        (y, x) float64 953kB dask.array&lt;chunksize=(331, 360), meta=np.ndarray&gt;\n",
       "    nav_lon        (y, x) float64 953kB dask.array&lt;chunksize=(331, 360), meta=np.ndarray&gt;\n",
       "    time_centered  (time_counter) datetime64[ns] 384B dask.array&lt;chunksize=(1,), meta=np.ndarray&gt;\n",
       "  * time_counter   (time_counter) datetime64[ns] 384B 1976-07-02 ... 2023-07-...\n",
       "Dimensions without coordinates: y, x\n",
       "Data variables:\n",
       "    siconc         (time_counter, y, x) float32 23MB dask.array&lt;chunksize=(1, 331, 360), meta=np.ndarray&gt;</pre>"
      ],
      "text/plain": [
       "<xarray.Dataset> Size: 25MB\n",
       "Dimensions:        (y: 331, x: 360, time_counter: 48)\n",
       "Coordinates:\n",
       "    nav_lat        (y, x) float64 953kB dask.array<chunksize=(331, 360), meta=np.ndarray>\n",
       "    nav_lon        (y, x) float64 953kB dask.array<chunksize=(331, 360), meta=np.ndarray>\n",
       "    time_centered  (time_counter) datetime64[ns] 384B dask.array<chunksize=(1,), meta=np.ndarray>\n",
       "  * time_counter   (time_counter) datetime64[ns] 384B 1976-07-02 ... 2023-07-...\n",
       "Dimensions without coordinates: y, x\n",
       "Data variables:\n",
       "    siconc         (time_counter, y, x) float32 23MB dask.array<chunksize=(1, 331, 360), meta=np.ndarray>"
      ]
     },
     "execution_count": 5,
     "metadata": {},
     "output_type": "execute_result"
    }
   ],
   "source": [
    "# Define directory path to model output files:\n",
    "output_dir = \"https://noc-msm-o.s3-ext.jc.rl.ac.uk/npd-eorca1-jra55v1/I1y\"\n",
    "\n",
    "# Construct NEMO model grid dataset, including sea ice concentration:\n",
    "ds_icemod = xr.open_zarr(f\"{output_dir}/siconc\", consolidated=True, chunks={})[\"siconc\"].to_dataset()\n",
    "\n",
    "ds_icemod"
   ]
  },
  {
   "cell_type": "markdown",
   "metadata": {},
   "source": [
    "**Next, let's calculate the surface potential density anomaly referenced to the sea surface alongside the thermal expansion and haline contraction coefficients of seawater.**"
   ]
  },
  {
   "cell_type": "code",
   "execution_count": 6,
   "metadata": {},
   "outputs": [],
   "source": [
    "# Calculate potential density anomaly referenced to the sea surface (kg/m3):\n",
    "ds_gridT['sigma0'] = gsw.density.sigma0(CT=ds_gridT['tos_con'], SA=ds_gridT['sos_abs'])\n",
    "ds_gridT['sigma0'].name = 'sigma0'\n",
    "\n",
    "# Calculate thermal expansion coefficient at sea surface:\n",
    "ds_gridT['alpha'] = gsw.density.alpha(SA=ds_gridT['sos_abs'], CT=ds_gridT['tos_con'], p=0)\n",
    "ds_gridT['alpha'].name = 'alpha'\n",
    "\n",
    "# Calculate haline contraction coefficient at sea surface:\n",
    "ds_gridT['beta'] = gsw.density.beta(SA=ds_gridT['sos_abs'], CT=ds_gridT['tos_con'], p=0)\n",
    "ds_gridT['beta'].name = 'beta'"
   ]
  },
  {
   "cell_type": "markdown",
   "metadata": {},
   "source": [
    "### **Creating a NEMODataTree**\n",
    "\n",
    "**Using our outputs, let's create a NEMODataTree to store our domain and T- & V-grid variables for the eORCA1 model.**"
   ]
  },
  {
   "cell_type": "code",
   "execution_count": 7,
   "metadata": {},
   "outputs": [
    {
     "data": {
      "text/html": [
       "<pre>&lt;xarray.DataTree&gt;\n",
       "Group: /\n",
       "│   Dimensions:        (time_counter: 48)\n",
       "│   Coordinates:\n",
       "│       time_centered  (time_counter) datetime64[ns] 384B dask.array&lt;chunksize=(1,), meta=np.ndarray&gt;\n",
       "│     * time_counter   (time_counter) datetime64[ns] 384B 1976-07-02 ... 2023-07-...\n",
       "│   Attributes:\n",
       "│       nftype:   F\n",
       "│       iperio:   True\n",
       "├── Group: /gridT\n",
       "│       Dimensions:        (time_counter: 48, j: 331, i: 360, k: 75)\n",
       "│       Coordinates:\n",
       "│           time_centered  (time_counter) datetime64[ns] 384B dask.array&lt;chunksize=(1,), meta=np.ndarray&gt;\n",
       "│           gphit          (j, i) float64 953kB dask.array&lt;chunksize=(331, 360), meta=np.ndarray&gt;\n",
       "│           glamt          (j, i) float64 953kB dask.array&lt;chunksize=(331, 360), meta=np.ndarray&gt;\n",
       "│         * k              (k) int64 600B 1 2 3 4 5 6 7 8 9 ... 68 69 70 71 72 73 74 75\n",
       "│         * j              (j) int64 3kB 1 2 3 4 5 6 7 8 ... 325 326 327 328 329 330 331\n",
       "│         * i              (i) int64 3kB 1 2 3 4 5 6 7 8 ... 354 355 356 357 358 359 360\n",
       "│       Data variables: (12/13)\n",
       "│           siconc         (time_counter, j, i) float32 23MB dask.array&lt;chunksize=(1, 331, 360), meta=np.ndarray&gt;\n",
       "│           tos_con        (time_counter, j, i) float32 23MB dask.array&lt;chunksize=(1, 331, 360), meta=np.ndarray&gt;\n",
       "│           sos_abs        (time_counter, j, i) float32 23MB dask.array&lt;chunksize=(1, 331, 360), meta=np.ndarray&gt;\n",
       "│           hfds           (time_counter, j, i) float32 23MB dask.array&lt;chunksize=(1, 331, 360), meta=np.ndarray&gt;\n",
       "│           sowaflup       (time_counter, j, i) float32 23MB dask.array&lt;chunksize=(1, 331, 360), meta=np.ndarray&gt;\n",
       "│           sigma0         (time_counter, j, i) float64 46MB dask.array&lt;chunksize=(1, 331, 360), meta=np.ndarray&gt;\n",
       "│           ...             ...\n",
       "│           beta           (time_counter, j, i) float64 46MB dask.array&lt;chunksize=(1, 331, 360), meta=np.ndarray&gt;\n",
       "│           e1t            (j, i) float64 953kB dask.array&lt;chunksize=(331, 360), meta=np.ndarray&gt;\n",
       "│           e2t            (j, i) float64 953kB dask.array&lt;chunksize=(331, 360), meta=np.ndarray&gt;\n",
       "│           top_level      (j, i) int32 477kB dask.array&lt;chunksize=(331, 360), meta=np.ndarray&gt;\n",
       "│           bottom_level   (j, i) int32 477kB dask.array&lt;chunksize=(331, 360), meta=np.ndarray&gt;\n",
       "│           tmask          (k, j, i) bool 9MB False False False ... False False False\n",
       "│       Attributes:\n",
       "│           nftype:   F\n",
       "│           iperio:   True\n",
       "├── Group: /gridU\n",
       "│       Dimensions:       (j: 331, i: 360, k: 75)\n",
       "│       Coordinates:\n",
       "│           gphiu         (j, i) float64 953kB dask.array&lt;chunksize=(331, 360), meta=np.ndarray&gt;\n",
       "│           glamu         (j, i) float64 953kB dask.array&lt;chunksize=(331, 360), meta=np.ndarray&gt;\n",
       "│         * k             (k) int64 600B 1 2 3 4 5 6 7 8 9 ... 68 69 70 71 72 73 74 75\n",
       "│         * j             (j) int64 3kB 1 2 3 4 5 6 7 8 ... 325 326 327 328 329 330 331\n",
       "│         * i             (i) float64 3kB 1.5 2.5 3.5 4.5 ... 357.5 358.5 359.5 360.5\n",
       "│       Data variables:\n",
       "│           e1u           (j, i) float64 953kB dask.array&lt;chunksize=(331, 360), meta=np.ndarray&gt;\n",
       "│           e2u           (j, i) float64 953kB dask.array&lt;chunksize=(331, 360), meta=np.ndarray&gt;\n",
       "│           umask         (k, j, i) bool 9MB False False False ... False False False\n",
       "│       Attributes:\n",
       "│           nftype:   F\n",
       "│           iperio:   True\n",
       "├── Group: /gridV\n",
       "│       Dimensions:       (j: 331, i: 360, k: 75)\n",
       "│       Coordinates:\n",
       "│           gphiv         (j, i) float64 953kB dask.array&lt;chunksize=(331, 360), meta=np.ndarray&gt;\n",
       "│           glamv         (j, i) float64 953kB dask.array&lt;chunksize=(331, 360), meta=np.ndarray&gt;\n",
       "│         * k             (k) int64 600B 1 2 3 4 5 6 7 8 9 ... 68 69 70 71 72 73 74 75\n",
       "│         * j             (j) float64 3kB 1.5 2.5 3.5 4.5 ... 328.5 329.5 330.5 331.5\n",
       "│         * i             (i) int64 3kB 1 2 3 4 5 6 7 8 ... 354 355 356 357 358 359 360\n",
       "│       Data variables:\n",
       "│           e1v           (j, i) float64 953kB dask.array&lt;chunksize=(331, 360), meta=np.ndarray&gt;\n",
       "│           e2v           (j, i) float64 953kB dask.array&lt;chunksize=(331, 360), meta=np.ndarray&gt;\n",
       "│           vmask         (k, j, i) bool 9MB False False False ... False False False\n",
       "│       Attributes:\n",
       "│           nftype:   F\n",
       "│           iperio:   True\n",
       "├── Group: /gridW\n",
       "│       Dimensions:       (j: 331, i: 360, k: 75)\n",
       "│       Coordinates:\n",
       "│           gphit         (j, i) float64 953kB dask.array&lt;chunksize=(331, 360), meta=np.ndarray&gt;\n",
       "│           glamt         (j, i) float64 953kB dask.array&lt;chunksize=(331, 360), meta=np.ndarray&gt;\n",
       "│         * k             (k) float64 600B 0.5 1.5 2.5 3.5 4.5 ... 71.5 72.5 73.5 74.5\n",
       "│         * j             (j) int64 3kB 1 2 3 4 5 6 7 8 ... 325 326 327 328 329 330 331\n",
       "│         * i             (i) int64 3kB 1 2 3 4 5 6 7 8 ... 354 355 356 357 358 359 360\n",
       "│       Data variables:\n",
       "│           e1t           (j, i) float64 953kB dask.array&lt;chunksize=(331, 360), meta=np.ndarray&gt;\n",
       "│           e2t           (j, i) float64 953kB dask.array&lt;chunksize=(331, 360), meta=np.ndarray&gt;\n",
       "│           wmask         (k, j, i) bool 9MB False False False ... False False False\n",
       "│       Attributes:\n",
       "│           nftype:   F\n",
       "│           iperio:   True\n",
       "└── Group: /gridF\n",
       "        Dimensions:       (j: 331, i: 360, k: 75)\n",
       "        Coordinates:\n",
       "            gphif         (j, i) float64 953kB dask.array&lt;chunksize=(331, 360), meta=np.ndarray&gt;\n",
       "            glamf         (j, i) float64 953kB dask.array&lt;chunksize=(331, 360), meta=np.ndarray&gt;\n",
       "          * k             (k) int64 600B 1 2 3 4 5 6 7 8 9 ... 68 69 70 71 72 73 74 75\n",
       "          * j             (j) float64 3kB 1.5 2.5 3.5 4.5 ... 328.5 329.5 330.5 331.5\n",
       "          * i             (i) float64 3kB 1.5 2.5 3.5 4.5 ... 357.5 358.5 359.5 360.5\n",
       "        Data variables:\n",
       "            e1f           (j, i) float64 953kB dask.array&lt;chunksize=(331, 360), meta=np.ndarray&gt;\n",
       "            e2f           (j, i) float64 953kB dask.array&lt;chunksize=(331, 360), meta=np.ndarray&gt;\n",
       "            fmask         (k, j, i) bool 9MB False False False ... False False False\n",
       "        Attributes:\n",
       "            nftype:   F\n",
       "            iperio:   True</pre>"
      ],
      "text/plain": [
       "<xarray.DataTree>\n",
       "Group: /\n",
       "│   Dimensions:        (time_counter: 48)\n",
       "│   Coordinates:\n",
       "│       time_centered  (time_counter) datetime64[ns] 384B dask.array<chunksize=(1,), meta=np.ndarray>\n",
       "│     * time_counter   (time_counter) datetime64[ns] 384B 1976-07-02 ... 2023-07-...\n",
       "│   Attributes:\n",
       "│       nftype:   F\n",
       "│       iperio:   True\n",
       "├── Group: /gridT\n",
       "│       Dimensions:        (time_counter: 48, j: 331, i: 360, k: 75)\n",
       "│       Coordinates:\n",
       "│           time_centered  (time_counter) datetime64[ns] 384B dask.array<chunksize=(1,), meta=np.ndarray>\n",
       "│           gphit          (j, i) float64 953kB dask.array<chunksize=(331, 360), meta=np.ndarray>\n",
       "│           glamt          (j, i) float64 953kB dask.array<chunksize=(331, 360), meta=np.ndarray>\n",
       "│         * k              (k) int64 600B 1 2 3 4 5 6 7 8 9 ... 68 69 70 71 72 73 74 75\n",
       "│         * j              (j) int64 3kB 1 2 3 4 5 6 7 8 ... 325 326 327 328 329 330 331\n",
       "│         * i              (i) int64 3kB 1 2 3 4 5 6 7 8 ... 354 355 356 357 358 359 360\n",
       "│       Data variables: (12/13)\n",
       "│           siconc         (time_counter, j, i) float32 23MB dask.array<chunksize=(1, 331, 360), meta=np.ndarray>\n",
       "│           tos_con        (time_counter, j, i) float32 23MB dask.array<chunksize=(1, 331, 360), meta=np.ndarray>\n",
       "│           sos_abs        (time_counter, j, i) float32 23MB dask.array<chunksize=(1, 331, 360), meta=np.ndarray>\n",
       "│           hfds           (time_counter, j, i) float32 23MB dask.array<chunksize=(1, 331, 360), meta=np.ndarray>\n",
       "│           sowaflup       (time_counter, j, i) float32 23MB dask.array<chunksize=(1, 331, 360), meta=np.ndarray>\n",
       "│           sigma0         (time_counter, j, i) float64 46MB dask.array<chunksize=(1, 331, 360), meta=np.ndarray>\n",
       "│           ...             ...\n",
       "│           beta           (time_counter, j, i) float64 46MB dask.array<chunksize=(1, 331, 360), meta=np.ndarray>\n",
       "│           e1t            (j, i) float64 953kB dask.array<chunksize=(331, 360), meta=np.ndarray>\n",
       "│           e2t            (j, i) float64 953kB dask.array<chunksize=(331, 360), meta=np.ndarray>\n",
       "│           top_level      (j, i) int32 477kB dask.array<chunksize=(331, 360), meta=np.ndarray>\n",
       "│           bottom_level   (j, i) int32 477kB dask.array<chunksize=(331, 360), meta=np.ndarray>\n",
       "│           tmask          (k, j, i) bool 9MB False False False ... False False False\n",
       "│       Attributes:\n",
       "│           nftype:   F\n",
       "│           iperio:   True\n",
       "├── Group: /gridU\n",
       "│       Dimensions:       (j: 331, i: 360, k: 75)\n",
       "│       Coordinates:\n",
       "│           gphiu         (j, i) float64 953kB dask.array<chunksize=(331, 360), meta=np.ndarray>\n",
       "│           glamu         (j, i) float64 953kB dask.array<chunksize=(331, 360), meta=np.ndarray>\n",
       "│         * k             (k) int64 600B 1 2 3 4 5 6 7 8 9 ... 68 69 70 71 72 73 74 75\n",
       "│         * j             (j) int64 3kB 1 2 3 4 5 6 7 8 ... 325 326 327 328 329 330 331\n",
       "│         * i             (i) float64 3kB 1.5 2.5 3.5 4.5 ... 357.5 358.5 359.5 360.5\n",
       "│       Data variables:\n",
       "│           e1u           (j, i) float64 953kB dask.array<chunksize=(331, 360), meta=np.ndarray>\n",
       "│           e2u           (j, i) float64 953kB dask.array<chunksize=(331, 360), meta=np.ndarray>\n",
       "│           umask         (k, j, i) bool 9MB False False False ... False False False\n",
       "│       Attributes:\n",
       "│           nftype:   F\n",
       "│           iperio:   True\n",
       "├── Group: /gridV\n",
       "│       Dimensions:       (j: 331, i: 360, k: 75)\n",
       "│       Coordinates:\n",
       "│           gphiv         (j, i) float64 953kB dask.array<chunksize=(331, 360), meta=np.ndarray>\n",
       "│           glamv         (j, i) float64 953kB dask.array<chunksize=(331, 360), meta=np.ndarray>\n",
       "│         * k             (k) int64 600B 1 2 3 4 5 6 7 8 9 ... 68 69 70 71 72 73 74 75\n",
       "│         * j             (j) float64 3kB 1.5 2.5 3.5 4.5 ... 328.5 329.5 330.5 331.5\n",
       "│         * i             (i) int64 3kB 1 2 3 4 5 6 7 8 ... 354 355 356 357 358 359 360\n",
       "│       Data variables:\n",
       "│           e1v           (j, i) float64 953kB dask.array<chunksize=(331, 360), meta=np.ndarray>\n",
       "│           e2v           (j, i) float64 953kB dask.array<chunksize=(331, 360), meta=np.ndarray>\n",
       "│           vmask         (k, j, i) bool 9MB False False False ... False False False\n",
       "│       Attributes:\n",
       "│           nftype:   F\n",
       "│           iperio:   True\n",
       "├── Group: /gridW\n",
       "│       Dimensions:       (j: 331, i: 360, k: 75)\n",
       "│       Coordinates:\n",
       "│           gphit         (j, i) float64 953kB dask.array<chunksize=(331, 360), meta=np.ndarray>\n",
       "│           glamt         (j, i) float64 953kB dask.array<chunksize=(331, 360), meta=np.ndarray>\n",
       "│         * k             (k) float64 600B 0.5 1.5 2.5 3.5 4.5 ... 71.5 72.5 73.5 74.5\n",
       "│         * j             (j) int64 3kB 1 2 3 4 5 6 7 8 ... 325 326 327 328 329 330 331\n",
       "│         * i             (i) int64 3kB 1 2 3 4 5 6 7 8 ... 354 355 356 357 358 359 360\n",
       "│       Data variables:\n",
       "│           e1t           (j, i) float64 953kB dask.array<chunksize=(331, 360), meta=np.ndarray>\n",
       "│           e2t           (j, i) float64 953kB dask.array<chunksize=(331, 360), meta=np.ndarray>\n",
       "│           wmask         (k, j, i) bool 9MB False False False ... False False False\n",
       "│       Attributes:\n",
       "│           nftype:   F\n",
       "│           iperio:   True\n",
       "└── Group: /gridF\n",
       "        Dimensions:       (j: 331, i: 360, k: 75)\n",
       "        Coordinates:\n",
       "            gphif         (j, i) float64 953kB dask.array<chunksize=(331, 360), meta=np.ndarray>\n",
       "            glamf         (j, i) float64 953kB dask.array<chunksize=(331, 360), meta=np.ndarray>\n",
       "          * k             (k) int64 600B 1 2 3 4 5 6 7 8 9 ... 68 69 70 71 72 73 74 75\n",
       "          * j             (j) float64 3kB 1.5 2.5 3.5 4.5 ... 328.5 329.5 330.5 331.5\n",
       "          * i             (i) float64 3kB 1.5 2.5 3.5 4.5 ... 357.5 358.5 359.5 360.5\n",
       "        Data variables:\n",
       "            e1f           (j, i) float64 953kB dask.array<chunksize=(331, 360), meta=np.ndarray>\n",
       "            e2f           (j, i) float64 953kB dask.array<chunksize=(331, 360), meta=np.ndarray>\n",
       "            fmask         (k, j, i) bool 9MB False False False ... False False False\n",
       "        Attributes:\n",
       "            nftype:   F\n",
       "            iperio:   True"
      ]
     },
     "execution_count": 7,
     "metadata": {},
     "output_type": "execute_result"
    }
   ],
   "source": [
    "# Define dictionary of grid datasets defining eORCA1 parent model domain with no child/grand-child nests:\n",
    "# Note: domain_cfg z-dimension is expected to be named 'nav_lev'.\n",
    "datasets = {\"parent\": {\"domain\": ds_domain.rename({\"z\": \"nav_lev\"}), \"gridT\": ds_gridT, \"icemod\": ds_icemod}}\n",
    "\n",
    "# Initialise a new NEMODataTree whose parent domain is zonally periodic & north-folding on F-points:\n",
    "nemo = NEMODataTree.from_datasets(datasets=datasets, iperio=True, nftype=\"F\")\n",
    "\n",
    "nemo"
   ]
  },
  {
   "cell_type": "markdown",
   "metadata": {},
   "source": [
    "**Now, we will use the IHO World Seas polygons to extract the Labrador Sea from the eORCA1 model domain.**"
   ]
  },
  {
   "cell_type": "code",
   "execution_count": 8,
   "metadata": {},
   "outputs": [],
   "source": [
    "# Define IHO World Seas Labrador Sea polygon:\n",
    "lon_poly = df_IHO_World_Seas[df_IHO_World_Seas['Name'] == 'Labrador Sea']['Longitudes'].item()[0]\n",
    "lat_poly = df_IHO_World_Seas[df_IHO_World_Seas['Name'] == 'Labrador Sea']['Latitudes'].item()[0]\n",
    "\n",
    "# Define boolean mask for Labrador Sea:\n",
    "mask = nemo.mask_with_polygon(grid='/gridT', lon_poly=lon_poly, lat_poly=lat_poly)"
   ]
  },
  {
   "cell_type": "code",
   "execution_count": 9,
   "metadata": {},
   "outputs": [
    {
     "name": "stderr",
     "output_type": "stream",
     "text": [
      "/var/folders/z2/j_dr250s42x34hk63_rp4bm80000gq/T/ipykernel_26648/2396791886.py:3: UserWarning: The input coordinates to pcolormesh are interpreted as cell centers, but are not monotonically increasing or decreasing. This may lead to incorrectly calculated cell edges, in which case, please supply explicit cell edges to pcolormesh.\n",
      "  plt.pcolormesh(nemo['/gridT']['glamt'], nemo['/gridT']['gphit'], nemo['/gridT']['tos_con'].where(mask).mean(dim='time_counter'), cmap='RdBu_r')\n"
     ]
    },
    {
     "data": {
      "text/plain": [
       "(45.0, 65.0)"
      ]
     },
     "execution_count": 9,
     "metadata": {},
     "output_type": "execute_result"
    },
    {
     "data": {
      "image/png": "[encoded data removed]",
      "text/plain": [
       "<Figure size 640x480 with 2 Axes>"
      ]
     },
     "metadata": {},
     "output_type": "display_data"
    }
   ],
   "source": [
    "# Plotting Labrador Sea sub-domain:\n",
    "plt.figure()\n",
    "plt.pcolormesh(nemo['/gridT']['glamt'], nemo['/gridT']['gphit'], nemo['/gridT']['tos_con'].where(mask).mean(dim='time_counter'), cmap='RdBu_r')\n",
    "plt.plot(lon_poly, lat_poly, color='0.1', lw=2)\n",
    "plt.colorbar(label='Sea Surface Temperature (°C)')\n",
    "plt.xlabel('Longitude')\n",
    "plt.ylabel('Latitude')\n",
    "plt.xlim([-80, 0])\n",
    "plt.ylim([45, 65])\n"
   ]
  },
  {
   "cell_type": "markdown",
   "metadata": {},
   "source": [
    "### **Calculating surface-forced water mass transformation**\n",
    "\n",
    "**Now we have constructed our `NEMODataTree`, let's calculate the diapycnal surface-forced water mass trasformation from the surface density flux due to surface heat and freshwater fluxes.**"
   ]
  },
  {
   "cell_type": "code",
   "execution_count": 10,
   "metadata": {},
   "outputs": [],
   "source": [
    "# Define specific heat capacity of sea water [J kg-1 K-1]:\n",
    "cp0 = 3991.86795711963\n",
    "\n",
    "# Add sea surface density fluxes due to heat and freshwater fluxes to T-grid of NEMODataTree:\n",
    "nemo['/gridT']['f_hf'] = -(nemo['/gridT']['alpha'] / cp0) * nemo['/gridT']['hfds']\n",
    "nemo['/gridT']['f_fw'] = nemo['/gridT']['beta'] * (nemo['/gridT']['sos_abs'] / (1 - nemo['/gridT']['sos_abs'])) * nemo['/gridT']['sowaflup']"
   ]
  },
  {
   "cell_type": "code",
   "execution_count": 11,
   "metadata": {},
   "outputs": [
    {
     "data": {
      "text/html": [
       "<pre>&lt;xarray.DataArray &#x27;sfwmt&#x27; (time_counter: 48, sigma0_bins: 140)&gt; Size: 54kB\n",
       "dask.array&lt;reshape, shape=(48, 140), dtype=float64, chunksize=(48, 140), chunktype=numpy.ndarray&gt;\n",
       "Coordinates:\n",
       "  * time_counter  (time_counter) datetime64[ns] 384B 1976-07-02 ... 2023-07-0...\n",
       "  * sigma0_bins   (sigma0_bins) float64 1kB 22.02 22.08 22.12 ... 28.93 28.98</pre>"
      ],
      "text/plain": [
       "<xarray.DataArray 'sfwmt' (time_counter: 48, sigma0_bins: 140)> Size: 54kB\n",
       "dask.array<reshape, shape=(48, 140), dtype=float64, chunksize=(48, 140), chunktype=numpy.ndarray>\n",
       "Coordinates:\n",
       "  * time_counter  (time_counter) datetime64[ns] 384B 1976-07-02 ... 2023-07-0...\n",
       "  * sigma0_bins   (sigma0_bins) float64 1kB 22.02 22.08 22.12 ... 28.93 28.98"
      ]
     },
     "execution_count": 11,
     "metadata": {},
     "output_type": "execute_result"
    }
   ],
   "source": [
    "# Define potential density bins [kg m-3]:\n",
    "sigma0_bins = np.arange(22, 29.05, 0.05)\n",
    "dsigma0 = 0.05\n",
    "\n",
    "# Compute surface forced water mass transformation across each surface T-grid cell [m3 s-1].\n",
    "nemo['gridT']['sfwmt'] = (1 / dsigma0) * (nemo['/gridT']['f_hf'] + nemo['/gridT']['f_fw']) * nemo.cell_area(grid='/gridT', dim='k')\n",
    "\n",
    "# Compute total surface-force water mass transformation in discrete potential density coords:\n",
    "sfwmt_sigma0_atl = nemo.binned_statistic(grid=\"/gridT\",\n",
    "                                         vars=[\"sigma0\"],\n",
    "                                         values=\"sfwmt\",\n",
    "                                         keep_dims=[\"time_counter\"],\n",
    "                                         bins=[sigma0_bins],\n",
    "                                         statistic=\"nansum\",\n",
    "                                         mask=mask\n",
    "                                         )\n",
    "\n",
    "sfwmt_sigma0_atl"
   ]
  },
  {
   "cell_type": "markdown",
   "metadata": {},
   "source": [
    "**Notice that the resulting DataArray includes a dask array, so we haven't actually computed the surface-forced water mass transformation yet. To do this, we need to call the ``.compute()`` method:**"
   ]
  },
  {
   "cell_type": "code",
   "execution_count": 12,
   "metadata": {},
   "outputs": [
    {
     "name": "stderr",
     "output_type": "stream",
     "text": [
      "OMP: Info #276: omp_set_nested routine deprecated, please use omp_set_max_active_levels instead.\n"
     ]
    },
    {
     "data": {
      "text/html": [
       "<pre>&lt;xarray.DataArray &#x27;sfwmt_sigma0_atl&#x27; (time_counter: 48, sigma0_bins: 140)&gt; Size: 54kB\n",
       "array([[nan, nan, nan, ..., nan, nan, nan],\n",
       "       [nan, nan, nan, ..., nan, nan, nan],\n",
       "       [nan, nan, nan, ..., nan, nan, nan],\n",
       "       ...,\n",
       "       [nan, nan, nan, ..., nan, nan, nan],\n",
       "       [nan, nan, nan, ..., nan, nan, nan],\n",
       "       [nan, nan, nan, ..., nan, nan, nan]], shape=(48, 140))\n",
       "Coordinates:\n",
       "  * time_counter  (time_counter) datetime64[ns] 384B 1976-07-02 ... 2023-07-0...\n",
       "  * sigma0_bins   (sigma0_bins) float64 1kB 22.02 22.08 22.12 ... 28.93 28.98</pre>"
      ],
      "text/plain": [
       "<xarray.DataArray 'sfwmt_sigma0_atl' (time_counter: 48, sigma0_bins: 140)> Size: 54kB\n",
       "array([[nan, nan, nan, ..., nan, nan, nan],\n",
       "       [nan, nan, nan, ..., nan, nan, nan],\n",
       "       [nan, nan, nan, ..., nan, nan, nan],\n",
       "       ...,\n",
       "       [nan, nan, nan, ..., nan, nan, nan],\n",
       "       [nan, nan, nan, ..., nan, nan, nan],\n",
       "       [nan, nan, nan, ..., nan, nan, nan]], shape=(48, 140))\n",
       "Coordinates:\n",
       "  * time_counter  (time_counter) datetime64[ns] 384B 1976-07-02 ... 2023-07-0...\n",
       "  * sigma0_bins   (sigma0_bins) float64 1kB 22.02 22.08 22.12 ... 28.93 28.98"
      ]
     },
     "execution_count": 12,
     "metadata": {},
     "output_type": "execute_result"
    }
   ],
   "source": [
    "# Compute diapycnal surface-forced water mass transformation in Sverdrups [1 Sv = 1E6 m3/s]:\n",
    "sfwmt_sigma0_atl = (sfwmt_sigma0_atl / 1E6).compute()\n",
    "sfwmt_sigma0_atl.name = 'sfwmt_sigma0_atl'\n",
    "\n",
    "sfwmt_sigma0_atl"
   ]
  },
  {
   "cell_type": "markdown",
   "metadata": {},
   "source": [
    "### **Visualising the time-mean surface-forced diapycnal overturning stream function**\n",
    "\n",
    "**Finally, let's visualise the results by plotting the time-mean surface-forced overturning stream function in potential density-coordinates for the Atlantic Ocean:**"
   ]
  },
  {
   "cell_type": "code",
   "execution_count": 13,
   "metadata": {},
   "outputs": [
    {
     "data": {
      "text/plain": [
       "<matplotlib.collections.QuadMesh at 0x327284a50>"
      ]
     },
     "execution_count": 13,
     "metadata": {},
     "output_type": "execute_result"
    },
    {
     "data": {
      "image/png": "[encoded data removed]",
      "text/plain": [
       "<Figure size 640x480 with 2 Axes>"
      ]
     },
     "metadata": {},
     "output_type": "display_data"
    }
   ],
   "source": [
    "sfwmt_sigma0_atl.plot(y='sigma0_bins', yincrease=False)"
   ]
  }
 ],
 "metadata": {
  "kernelspec": {
   "display_name": "env_nemo_cookbook",
   "language": "python",
   "name": "python3"
  },
  "language_info": {
   "codemirror_mode": {
    "name": "ipython",
    "version": 3
   },
   "file_extension": ".py",
   "mimetype": "text/x-python",
   "name": "python",
   "nbconvert_exporter": "python",
   "pygments_lexer": "ipython3",
   "version": "3.13.5"
  }
 },
 "nbformat": 4,
 "nbformat_minor": 2
}
