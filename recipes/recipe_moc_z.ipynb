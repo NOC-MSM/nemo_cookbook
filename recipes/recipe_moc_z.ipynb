{
 "cells": [
  {
   "cell_type": "markdown",
   "metadata": {},
   "source": [
    "### **Description**\n",
    "\n",
    "This recipe shows how to calculate the Atlantic Meridional Overturning Circulation (AMOC) stream function in depth-coordinates using annual-mean outputs from the National Oceanography Centre Near-Present-Day global eORCA1 configuration of NEMO forced using JRA55-do from 1976-2024.\n",
    "\n",
    "For more details on this model configuration and the available outputs, users can explore the Near-Present-Day documentation [here](https://noc-msm.github.io/NOC_Near_Present_Day/).\n",
    "\n",
    "---\n",
    "### **Background**\n",
    "The vertical overturning stream function is routinely used to characterise the strength and structure of the AMOC in depth-space as a function of latitude $\\phi$ and can be defined at time $t$ as follows:\n",
    "\n",
    "$$\\Psi_{z}(\\phi, z, t) = \\int_{z}^{\\eta} \\int_{x_w}^{x_e} v(\\lambda, \\phi, z, t) \\ dx \\ dz$$\n",
    "\n",
    "where the meridional velocity $v(\\lambda, \\phi, z, t)$ is first integrated zonally between the western $x_w$ and eastern $x_e$ boundaries of the basin before being accumulated vertically from the\n",
    "sea surface $\\eta$ to a specified depth $z(\\lambda, \\phi)$ (decreasing downward).\n",
    "\n",
    "---"
   ]
  },
  {
   "cell_type": "code",
   "execution_count": 1,
   "metadata": {},
   "outputs": [
    {
     "data": {
      "text/plain": [
       "<xarray.core.options.set_options at 0x177f49010>"
      ]
     },
     "execution_count": 1,
     "metadata": {},
     "output_type": "execute_result"
    }
   ],
   "source": [
    "# -- Import required packages -- #\n",
    "import xarray as xr\n",
    "from nemo_cookbook import NEMODataTree\n",
    "\n",
    "xr.set_options(display_style=\"text\")"
   ]
  },
  {
   "cell_type": "markdown",
   "metadata": {},
   "source": [
    "### **Using Dask**\n",
    "\n",
    "**Optional: Connect Client to Dask Local Cluster to run analysis in parallel.**\n",
    "\n",
    "Note that, although using Dask is not strictly necessary for this simple example using eORCA1, if we wanted to generalise this recipe to eORCA025 or eORCA12 outputs, using Dask would be essential to avoid unnecessary slow calculations using only a single process."
   ]
  },
  {
   "cell_type": "code",
   "execution_count": null,
   "metadata": {},
   "outputs": [],
   "source": [
    "# -- Initialise Dask Local Cluster -- #\n",
    "import os\n",
    "import dask\n",
    "from dask.distributed import Client, LocalCluster\n",
    "\n",
    "# Update temporary directory for Dask workers:\n",
    "dask.config.set({'temporary_directory': f\"{os.getcwd()}/dask_tmp\",\n",
    "                 'local_directory': f\"{os.getcwd()}/dask_tmp\"\n",
    "                 })\n",
    "\n",
    "# Create Local Cluster:\n",
    "cluster = LocalCluster(n_workers=4, threads_per_worker=3, memory_limit='5GB')\n",
    "client = Client(cluster)\n",
    "client"
   ]
  },
  {
   "cell_type": "markdown",
   "metadata": {},
   "source": [
    "### **Accessing NEMO Model Data**\n",
    "**Let's begin by loading the grid variables for our eORCA1 JRA-55 model from the [JASMIN Object Store](https://help.jasmin.ac.uk/docs/short-term-project-storage/using-the-jasmin-object-store/)**. \n",
    "\n",
    "**Alternatively, you can replace the ``domain_filepath`` below with a file path to your domain_cfg.nc file and read this with xarray's ``open_dataset()`` function.**"
   ]
  },
  {
   "cell_type": "code",
   "execution_count": 4,
   "metadata": {},
   "outputs": [
    {
     "data": {
      "text/html": [
       "<pre>&lt;xarray.Dataset&gt; Size: 667MB\n",
       "Dimensions:        (t: 1, y: 331, x: 360, z: 75)\n",
       "Dimensions without coordinates: t, y, x, z\n",
       "Data variables: (12/54)\n",
       "    e1t            (t, y, x) float64 953kB dask.array&lt;chunksize=(1, 331, 360), meta=np.ndarray&gt;\n",
       "    e2v            (t, y, x) float64 953kB dask.array&lt;chunksize=(1, 331, 360), meta=np.ndarray&gt;\n",
       "    bottom_level   (t, y, x) int32 477kB dask.array&lt;chunksize=(1, 331, 360), meta=np.ndarray&gt;\n",
       "    e2t            (t, y, x) float64 953kB dask.array&lt;chunksize=(1, 331, 360), meta=np.ndarray&gt;\n",
       "    e2u            (t, y, x) float64 953kB dask.array&lt;chunksize=(1, 331, 360), meta=np.ndarray&gt;\n",
       "    bathy_metry    (t, y, x) float32 477kB dask.array&lt;chunksize=(1, 331, 360), meta=np.ndarray&gt;\n",
       "    ...             ...\n",
       "    nav_lev        (z) float32 300B dask.array&lt;chunksize=(75,), meta=np.ndarray&gt;\n",
       "    mask_csundef   (t, y, x) int32 477kB dask.array&lt;chunksize=(1, 331, 360), meta=np.ndarray&gt;\n",
       "    nav_lat        (y, x) float32 477kB dask.array&lt;chunksize=(331, 360), meta=np.ndarray&gt;\n",
       "    nav_lon        (y, x) float32 477kB dask.array&lt;chunksize=(331, 360), meta=np.ndarray&gt;\n",
       "    time_counter   (t) float64 8B dask.array&lt;chunksize=(1,), meta=np.ndarray&gt;\n",
       "    top_level      (t, y, x) int32 477kB dask.array&lt;chunksize=(1, 331, 360), meta=np.ndarray&gt;\n",
       "Attributes:\n",
       "    DOMAIN_number_total:     1\n",
       "    DOMAIN_number:           0\n",
       "    DOMAIN_dimensions_ids:   [1, 2]\n",
       "    DOMAIN_size_global:      [362, 332]\n",
       "    DOMAIN_size_local:       [362, 332]\n",
       "    DOMAIN_position_first:   [1, 1]\n",
       "    DOMAIN_position_last:    [362, 332]\n",
       "    DOMAIN_halo_size_start:  [0, 0]\n",
       "    DOMAIN_halo_size_end:    [0, 0]\n",
       "    DOMAIN_type:             BOX\n",
       "    history:                 Mon Jun  5 12:41:32 2023: ncks -A mask.nc ORCA1_...\n",
       "    NCO:                     4.4.7</pre>"
      ],
      "text/plain": [
       "<xarray.Dataset> Size: 667MB\n",
       "Dimensions:        (t: 1, y: 331, x: 360, z: 75)\n",
       "Dimensions without coordinates: t, y, x, z\n",
       "Data variables: (12/54)\n",
       "    e1t            (t, y, x) float64 953kB dask.array<chunksize=(1, 331, 360), meta=np.ndarray>\n",
       "    e2v            (t, y, x) float64 953kB dask.array<chunksize=(1, 331, 360), meta=np.ndarray>\n",
       "    bottom_level   (t, y, x) int32 477kB dask.array<chunksize=(1, 331, 360), meta=np.ndarray>\n",
       "    e2t            (t, y, x) float64 953kB dask.array<chunksize=(1, 331, 360), meta=np.ndarray>\n",
       "    e2u            (t, y, x) float64 953kB dask.array<chunksize=(1, 331, 360), meta=np.ndarray>\n",
       "    bathy_metry    (t, y, x) float32 477kB dask.array<chunksize=(1, 331, 360), meta=np.ndarray>\n",
       "    ...             ...\n",
       "    nav_lev        (z) float32 300B dask.array<chunksize=(75,), meta=np.ndarray>\n",
       "    mask_csundef   (t, y, x) int32 477kB dask.array<chunksize=(1, 331, 360), meta=np.ndarray>\n",
       "    nav_lat        (y, x) float32 477kB dask.array<chunksize=(331, 360), meta=np.ndarray>\n",
       "    nav_lon        (y, x) float32 477kB dask.array<chunksize=(331, 360), meta=np.ndarray>\n",
       "    time_counter   (t) float64 8B dask.array<chunksize=(1,), meta=np.ndarray>\n",
       "    top_level      (t, y, x) int32 477kB dask.array<chunksize=(1, 331, 360), meta=np.ndarray>\n",
       "Attributes:\n",
       "    DOMAIN_number_total:     1\n",
       "    DOMAIN_number:           0\n",
       "    DOMAIN_dimensions_ids:   [1, 2]\n",
       "    DOMAIN_size_global:      [362, 332]\n",
       "    DOMAIN_size_local:       [362, 332]\n",
       "    DOMAIN_position_first:   [1, 1]\n",
       "    DOMAIN_position_last:    [362, 332]\n",
       "    DOMAIN_halo_size_start:  [0, 0]\n",
       "    DOMAIN_halo_size_end:    [0, 0]\n",
       "    DOMAIN_type:             BOX\n",
       "    history:                 Mon Jun  5 12:41:32 2023: ncks -A mask.nc ORCA1_...\n",
       "    NCO:                     4.4.7"
      ]
     },
     "execution_count": 4,
     "metadata": {},
     "output_type": "execute_result"
    }
   ],
   "source": [
    "# Define directory path to ancillary files:\n",
    "domain_filepath = \"https://noc-msm-o.s3-ext.jc.rl.ac.uk/npd-eorca1-jra55v1/domain\"\n",
    "\n",
    "# Open eORCA1 NEMO model domain_cfg:\n",
    "ds_domain = xr.open_zarr(f\"{domain_filepath}/domain_cfg\", consolidated=True, chunks={})\n",
    "ds_subbasins = xr.open_zarr(f\"{domain_filepath}/subbasins\", consolidated=True, chunks={})\n",
    "\n",
    "ds_domain"
   ]
  },
  {
   "cell_type": "markdown",
   "metadata": {},
   "source": [
    "**Next, we need to import the meridional velocity and vertical grid cell thicknesses stored at V-points in a single dataset.**\n",
    "\n",
    "**Typically, NEMO model outputs defined on V-grid points are stored together in netCDF files. In this case, you can replace `xr.merge()` with a single call to xarray's `open_dataset()` function passing the file path to your `_gridV.nc` file(s).**"
   ]
  },
  {
   "cell_type": "code",
   "execution_count": 5,
   "metadata": {},
   "outputs": [
    {
     "data": {
      "text/html": [
       "<pre>&lt;xarray.Dataset&gt; Size: 4GB\n",
       "Dimensions:        (depthv: 75, y: 331, x: 360, time_counter: 49)\n",
       "Coordinates:\n",
       "  * depthv         (depthv) float32 300B 0.5058 1.556 ... 5.698e+03 5.902e+03\n",
       "    nav_lat        (y, x) float64 953kB dask.array&lt;chunksize=(331, 360), meta=np.ndarray&gt;\n",
       "    nav_lon        (y, x) float64 953kB dask.array&lt;chunksize=(331, 360), meta=np.ndarray&gt;\n",
       "    time_centered  (time_counter) datetime64[ns] 392B dask.array&lt;chunksize=(1,), meta=np.ndarray&gt;\n",
       "  * time_counter   (time_counter) datetime64[ns] 392B 1976-07-02 ... 2024-07-02\n",
       "Dimensions without coordinates: y, x\n",
       "Data variables:\n",
       "    e3v            (time_counter, depthv, y, x) float32 2GB dask.array&lt;chunksize=(1, 25, 331, 360), meta=np.ndarray&gt;\n",
       "    vo             (time_counter, depthv, y, x) float32 2GB dask.array&lt;chunksize=(1, 25, 331, 360), meta=np.ndarray&gt;\n",
       "Attributes:\n",
       "    cell_methods:        time: mean (interval: 3600 s)\n",
       "    interval_operation:  3600 s\n",
       "    interval_write:      1 yr\n",
       "    long_name:           V-cell thickness\n",
       "    online_operation:    average\n",
       "    standard_name:       cell_thickness\n",
       "    units:               m</pre>"
      ],
      "text/plain": [
       "<xarray.Dataset> Size: 4GB\n",
       "Dimensions:        (depthv: 75, y: 331, x: 360, time_counter: 49)\n",
       "Coordinates:\n",
       "  * depthv         (depthv) float32 300B 0.5058 1.556 ... 5.698e+03 5.902e+03\n",
       "    nav_lat        (y, x) float64 953kB dask.array<chunksize=(331, 360), meta=np.ndarray>\n",
       "    nav_lon        (y, x) float64 953kB dask.array<chunksize=(331, 360), meta=np.ndarray>\n",
       "    time_centered  (time_counter) datetime64[ns] 392B dask.array<chunksize=(1,), meta=np.ndarray>\n",
       "  * time_counter   (time_counter) datetime64[ns] 392B 1976-07-02 ... 2024-07-02\n",
       "Dimensions without coordinates: y, x\n",
       "Data variables:\n",
       "    e3v            (time_counter, depthv, y, x) float32 2GB dask.array<chunksize=(1, 25, 331, 360), meta=np.ndarray>\n",
       "    vo             (time_counter, depthv, y, x) float32 2GB dask.array<chunksize=(1, 25, 331, 360), meta=np.ndarray>\n",
       "Attributes:\n",
       "    cell_methods:        time: mean (interval: 3600 s)\n",
       "    interval_operation:  3600 s\n",
       "    interval_write:      1 yr\n",
       "    long_name:           V-cell thickness\n",
       "    online_operation:    average\n",
       "    standard_name:       cell_thickness\n",
       "    units:               m"
      ]
     },
     "execution_count": 5,
     "metadata": {},
     "output_type": "execute_result"
    }
   ],
   "source": [
    "# Define directory path to model output files:\n",
    "output_dir = \"https://noc-msm-o.s3-ext.jc.rl.ac.uk/npd-eorca1-jra55v1/V1y\"\n",
    "\n",
    "# Construct NEMO model grid dataset, including vertical grid cell thicknesses (m) and meridional velocities (m/s):\n",
    "ds_gridV = xr.merge([xr.open_zarr(f\"{output_dir}/{var}\", consolidated=True, chunks={})[var] for var in ['e3v', 'vo']], compat=\"override\")\n",
    "\n",
    "ds_gridV"
   ]
  },
  {
   "cell_type": "markdown",
   "metadata": {},
   "source": [
    "### **Creating a NEMODataTree**\n",
    "\n",
    "**Next, let's create a NEMODataTree to store our domain and V-grid variables for the eORCA1 model.**"
   ]
  },
  {
   "cell_type": "code",
   "execution_count": 6,
   "metadata": {},
   "outputs": [
    {
     "data": {
      "text/html": [
       "<pre>&lt;xarray.DataTree&gt;\n",
       "Group: /\n",
       "│   Dimensions:        (time_counter: 49)\n",
       "│   Coordinates:\n",
       "│       time_centered  (time_counter) datetime64[ns] 392B dask.array&lt;chunksize=(1,), meta=np.ndarray&gt;\n",
       "│     * time_counter   (time_counter) datetime64[ns] 392B 1976-07-02 ... 2024-07-02\n",
       "│   Attributes:\n",
       "│       nftype:   F\n",
       "│       iperio:   True\n",
       "├── Group: /gridT\n",
       "│       Dimensions:       (j: 331, i: 360, k: 75)\n",
       "│       Coordinates:\n",
       "│           gphit         (j, i) float64 953kB dask.array&lt;chunksize=(331, 360), meta=np.ndarray&gt;\n",
       "│           glamt         (j, i) float64 953kB dask.array&lt;chunksize=(331, 360), meta=np.ndarray&gt;\n",
       "│         * k             (k) int64 600B 1 2 3 4 5 6 7 8 9 ... 68 69 70 71 72 73 74 75\n",
       "│         * j             (j) int64 3kB 1 2 3 4 5 6 7 8 ... 325 326 327 328 329 330 331\n",
       "│         * i             (i) int64 3kB 1 2 3 4 5 6 7 8 ... 354 355 356 357 358 359 360\n",
       "│       Data variables:\n",
       "│           e1t           (j, i) float64 953kB dask.array&lt;chunksize=(331, 360), meta=np.ndarray&gt;\n",
       "│           e2t           (j, i) float64 953kB dask.array&lt;chunksize=(331, 360), meta=np.ndarray&gt;\n",
       "│           top_level     (j, i) int32 477kB dask.array&lt;chunksize=(331, 360), meta=np.ndarray&gt;\n",
       "│           bottom_level  (j, i) int32 477kB dask.array&lt;chunksize=(331, 360), meta=np.ndarray&gt;\n",
       "│           tmask         (k, j, i) bool 9MB False False False ... False False False\n",
       "│       Attributes:\n",
       "│           nftype:   F\n",
       "│           iperio:   True\n",
       "├── Group: /gridU\n",
       "│       Dimensions:       (j: 331, i: 360, k: 75)\n",
       "│       Coordinates:\n",
       "│           gphiu         (j, i) float64 953kB dask.array&lt;chunksize=(331, 360), meta=np.ndarray&gt;\n",
       "│           glamu         (j, i) float64 953kB dask.array&lt;chunksize=(331, 360), meta=np.ndarray&gt;\n",
       "│         * k             (k) int64 600B 1 2 3 4 5 6 7 8 9 ... 68 69 70 71 72 73 74 75\n",
       "│         * j             (j) int64 3kB 1 2 3 4 5 6 7 8 ... 325 326 327 328 329 330 331\n",
       "│         * i             (i) float64 3kB 1.5 2.5 3.5 4.5 ... 357.5 358.5 359.5 360.5\n",
       "│       Data variables:\n",
       "│           e1u           (j, i) float64 953kB dask.array&lt;chunksize=(331, 360), meta=np.ndarray&gt;\n",
       "│           e2u           (j, i) float64 953kB dask.array&lt;chunksize=(331, 360), meta=np.ndarray&gt;\n",
       "│           umask         (k, j, i) bool 9MB False False False ... False False False\n",
       "│       Attributes:\n",
       "│           nftype:   F\n",
       "│           iperio:   True\n",
       "├── Group: /gridV\n",
       "│       Dimensions:        (time_counter: 49, k: 75, j: 331, i: 360)\n",
       "│       Coordinates:\n",
       "│         * depthv         (k) float32 300B 0.5058 1.556 2.668 ... 5.698e+03 5.902e+03\n",
       "│           time_centered  (time_counter) datetime64[ns] 392B dask.array&lt;chunksize=(1,), meta=np.ndarray&gt;\n",
       "│           gphiv          (j, i) float64 953kB dask.array&lt;chunksize=(331, 360), meta=np.ndarray&gt;\n",
       "│           glamv          (j, i) float64 953kB dask.array&lt;chunksize=(331, 360), meta=np.ndarray&gt;\n",
       "│         * k              (k) int64 600B 1 2 3 4 5 6 7 8 9 ... 68 69 70 71 72 73 74 75\n",
       "│         * j              (j) float64 3kB 1.5 2.5 3.5 4.5 ... 328.5 329.5 330.5 331.5\n",
       "│         * i              (i) int64 3kB 1 2 3 4 5 6 7 8 ... 354 355 356 357 358 359 360\n",
       "│       Data variables:\n",
       "│           e3v            (time_counter, k, j, i) float32 2GB dask.array&lt;chunksize=(1, 25, 331, 360), meta=np.ndarray&gt;\n",
       "│           vo             (time_counter, k, j, i) float32 2GB dask.array&lt;chunksize=(1, 25, 331, 360), meta=np.ndarray&gt;\n",
       "│           e1v            (j, i) float64 953kB dask.array&lt;chunksize=(331, 360), meta=np.ndarray&gt;\n",
       "│           e2v            (j, i) float64 953kB dask.array&lt;chunksize=(331, 360), meta=np.ndarray&gt;\n",
       "│           vmask          (k, j, i) bool 9MB False False False ... False False False\n",
       "│       Attributes:\n",
       "│           cell_methods:        time: mean (interval: 3600 s)\n",
       "│           interval_operation:  3600 s\n",
       "│           interval_write:      1 yr\n",
       "│           long_name:           V-cell thickness\n",
       "│           online_operation:    average\n",
       "│           standard_name:       cell_thickness\n",
       "│           units:               m\n",
       "│           nftype:              F\n",
       "│           iperio:              True\n",
       "├── Group: /gridW\n",
       "│       Dimensions:       (j: 331, i: 360, k: 75)\n",
       "│       Coordinates:\n",
       "│           gphit         (j, i) float64 953kB dask.array&lt;chunksize=(331, 360), meta=np.ndarray&gt;\n",
       "│           glamt         (j, i) float64 953kB dask.array&lt;chunksize=(331, 360), meta=np.ndarray&gt;\n",
       "│         * k             (k) float64 600B 0.5 1.5 2.5 3.5 4.5 ... 71.5 72.5 73.5 74.5\n",
       "│         * j             (j) int64 3kB 1 2 3 4 5 6 7 8 ... 325 326 327 328 329 330 331\n",
       "│         * i             (i) int64 3kB 1 2 3 4 5 6 7 8 ... 354 355 356 357 358 359 360\n",
       "│       Data variables:\n",
       "│           e1t           (j, i) float64 953kB dask.array&lt;chunksize=(331, 360), meta=np.ndarray&gt;\n",
       "│           e2t           (j, i) float64 953kB dask.array&lt;chunksize=(331, 360), meta=np.ndarray&gt;\n",
       "│           wmask         (k, j, i) bool 9MB False False False ... False False False\n",
       "│       Attributes:\n",
       "│           nftype:   F\n",
       "│           iperio:   True\n",
       "└── Group: /gridF\n",
       "        Dimensions:       (j: 331, i: 360, k: 75)\n",
       "        Coordinates:\n",
       "            gphif         (j, i) float64 953kB dask.array&lt;chunksize=(331, 360), meta=np.ndarray&gt;\n",
       "            glamf         (j, i) float64 953kB dask.array&lt;chunksize=(331, 360), meta=np.ndarray&gt;\n",
       "          * k             (k) int64 600B 1 2 3 4 5 6 7 8 9 ... 68 69 70 71 72 73 74 75\n",
       "          * j             (j) float64 3kB 1.5 2.5 3.5 4.5 ... 328.5 329.5 330.5 331.5\n",
       "          * i             (i) float64 3kB 1.5 2.5 3.5 4.5 ... 357.5 358.5 359.5 360.5\n",
       "        Data variables:\n",
       "            e1f           (j, i) float64 953kB dask.array&lt;chunksize=(331, 360), meta=np.ndarray&gt;\n",
       "            e2f           (j, i) float64 953kB dask.array&lt;chunksize=(331, 360), meta=np.ndarray&gt;\n",
       "            fmask         (k, j, i) bool 9MB False False False ... False False False\n",
       "        Attributes:\n",
       "            nftype:   F\n",
       "            iperio:   True</pre>"
      ],
      "text/plain": [
       "<xarray.DataTree>\n",
       "Group: /\n",
       "│   Dimensions:        (time_counter: 49)\n",
       "│   Coordinates:\n",
       "│       time_centered  (time_counter) datetime64[ns] 392B dask.array<chunksize=(1,), meta=np.ndarray>\n",
       "│     * time_counter   (time_counter) datetime64[ns] 392B 1976-07-02 ... 2024-07-02\n",
       "│   Attributes:\n",
       "│       nftype:   F\n",
       "│       iperio:   True\n",
       "├── Group: /gridT\n",
       "│       Dimensions:       (j: 331, i: 360, k: 75)\n",
       "│       Coordinates:\n",
       "│           gphit         (j, i) float64 953kB dask.array<chunksize=(331, 360), meta=np.ndarray>\n",
       "│           glamt         (j, i) float64 953kB dask.array<chunksize=(331, 360), meta=np.ndarray>\n",
       "│         * k             (k) int64 600B 1 2 3 4 5 6 7 8 9 ... 68 69 70 71 72 73 74 75\n",
       "│         * j             (j) int64 3kB 1 2 3 4 5 6 7 8 ... 325 326 327 328 329 330 331\n",
       "│         * i             (i) int64 3kB 1 2 3 4 5 6 7 8 ... 354 355 356 357 358 359 360\n",
       "│       Data variables:\n",
       "│           e1t           (j, i) float64 953kB dask.array<chunksize=(331, 360), meta=np.ndarray>\n",
       "│           e2t           (j, i) float64 953kB dask.array<chunksize=(331, 360), meta=np.ndarray>\n",
       "│           top_level     (j, i) int32 477kB dask.array<chunksize=(331, 360), meta=np.ndarray>\n",
       "│           bottom_level  (j, i) int32 477kB dask.array<chunksize=(331, 360), meta=np.ndarray>\n",
       "│           tmask         (k, j, i) bool 9MB False False False ... False False False\n",
       "│       Attributes:\n",
       "│           nftype:   F\n",
       "│           iperio:   True\n",
       "├── Group: /gridU\n",
       "│       Dimensions:       (j: 331, i: 360, k: 75)\n",
       "│       Coordinates:\n",
       "│           gphiu         (j, i) float64 953kB dask.array<chunksize=(331, 360), meta=np.ndarray>\n",
       "│           glamu         (j, i) float64 953kB dask.array<chunksize=(331, 360), meta=np.ndarray>\n",
       "│         * k             (k) int64 600B 1 2 3 4 5 6 7 8 9 ... 68 69 70 71 72 73 74 75\n",
       "│         * j             (j) int64 3kB 1 2 3 4 5 6 7 8 ... 325 326 327 328 329 330 331\n",
       "│         * i             (i) float64 3kB 1.5 2.5 3.5 4.5 ... 357.5 358.5 359.5 360.5\n",
       "│       Data variables:\n",
       "│           e1u           (j, i) float64 953kB dask.array<chunksize=(331, 360), meta=np.ndarray>\n",
       "│           e2u           (j, i) float64 953kB dask.array<chunksize=(331, 360), meta=np.ndarray>\n",
       "│           umask         (k, j, i) bool 9MB False False False ... False False False\n",
       "│       Attributes:\n",
       "│           nftype:   F\n",
       "│           iperio:   True\n",
       "├── Group: /gridV\n",
       "│       Dimensions:        (time_counter: 49, k: 75, j: 331, i: 360)\n",
       "│       Coordinates:\n",
       "│         * depthv         (k) float32 300B 0.5058 1.556 2.668 ... 5.698e+03 5.902e+03\n",
       "│           time_centered  (time_counter) datetime64[ns] 392B dask.array<chunksize=(1,), meta=np.ndarray>\n",
       "│           gphiv          (j, i) float64 953kB dask.array<chunksize=(331, 360), meta=np.ndarray>\n",
       "│           glamv          (j, i) float64 953kB dask.array<chunksize=(331, 360), meta=np.ndarray>\n",
       "│         * k              (k) int64 600B 1 2 3 4 5 6 7 8 9 ... 68 69 70 71 72 73 74 75\n",
       "│         * j              (j) float64 3kB 1.5 2.5 3.5 4.5 ... 328.5 329.5 330.5 331.5\n",
       "│         * i              (i) int64 3kB 1 2 3 4 5 6 7 8 ... 354 355 356 357 358 359 360\n",
       "│       Data variables:\n",
       "│           e3v            (time_counter, k, j, i) float32 2GB dask.array<chunksize=(1, 25, 331, 360), meta=np.ndarray>\n",
       "│           vo             (time_counter, k, j, i) float32 2GB dask.array<chunksize=(1, 25, 331, 360), meta=np.ndarray>\n",
       "│           e1v            (j, i) float64 953kB dask.array<chunksize=(331, 360), meta=np.ndarray>\n",
       "│           e2v            (j, i) float64 953kB dask.array<chunksize=(331, 360), meta=np.ndarray>\n",
       "│           vmask          (k, j, i) bool 9MB False False False ... False False False\n",
       "│       Attributes:\n",
       "│           cell_methods:        time: mean (interval: 3600 s)\n",
       "│           interval_operation:  3600 s\n",
       "│           interval_write:      1 yr\n",
       "│           long_name:           V-cell thickness\n",
       "│           online_operation:    average\n",
       "│           standard_name:       cell_thickness\n",
       "│           units:               m\n",
       "│           nftype:              F\n",
       "│           iperio:              True\n",
       "├── Group: /gridW\n",
       "│       Dimensions:       (j: 331, i: 360, k: 75)\n",
       "│       Coordinates:\n",
       "│           gphit         (j, i) float64 953kB dask.array<chunksize=(331, 360), meta=np.ndarray>\n",
       "│           glamt         (j, i) float64 953kB dask.array<chunksize=(331, 360), meta=np.ndarray>\n",
       "│         * k             (k) float64 600B 0.5 1.5 2.5 3.5 4.5 ... 71.5 72.5 73.5 74.5\n",
       "│         * j             (j) int64 3kB 1 2 3 4 5 6 7 8 ... 325 326 327 328 329 330 331\n",
       "│         * i             (i) int64 3kB 1 2 3 4 5 6 7 8 ... 354 355 356 357 358 359 360\n",
       "│       Data variables:\n",
       "│           e1t           (j, i) float64 953kB dask.array<chunksize=(331, 360), meta=np.ndarray>\n",
       "│           e2t           (j, i) float64 953kB dask.array<chunksize=(331, 360), meta=np.ndarray>\n",
       "│           wmask         (k, j, i) bool 9MB False False False ... False False False\n",
       "│       Attributes:\n",
       "│           nftype:   F\n",
       "│           iperio:   True\n",
       "└── Group: /gridF\n",
       "        Dimensions:       (j: 331, i: 360, k: 75)\n",
       "        Coordinates:\n",
       "            gphif         (j, i) float64 953kB dask.array<chunksize=(331, 360), meta=np.ndarray>\n",
       "            glamf         (j, i) float64 953kB dask.array<chunksize=(331, 360), meta=np.ndarray>\n",
       "          * k             (k) int64 600B 1 2 3 4 5 6 7 8 9 ... 68 69 70 71 72 73 74 75\n",
       "          * j             (j) float64 3kB 1.5 2.5 3.5 4.5 ... 328.5 329.5 330.5 331.5\n",
       "          * i             (i) float64 3kB 1.5 2.5 3.5 4.5 ... 357.5 358.5 359.5 360.5\n",
       "        Data variables:\n",
       "            e1f           (j, i) float64 953kB dask.array<chunksize=(331, 360), meta=np.ndarray>\n",
       "            e2f           (j, i) float64 953kB dask.array<chunksize=(331, 360), meta=np.ndarray>\n",
       "            fmask         (k, j, i) bool 9MB False False False ... False False False\n",
       "        Attributes:\n",
       "            nftype:   F\n",
       "            iperio:   True"
      ]
     },
     "execution_count": 6,
     "metadata": {},
     "output_type": "execute_result"
    }
   ],
   "source": [
    "# Define dictionary of grid datasets defining eORCA1 parent model domain with no child/grand-child nests:\n",
    "# Note: domain_cfg z-dimension is expected to be named 'nav_lev'.\n",
    "datasets = {\"parent\": {\"domain\": ds_domain.rename({\"z\": \"nav_lev\"}), \"gridV\": ds_gridV}}\n",
    "\n",
    "# Initialise a new NEMODataTree whose parent domain is zonally periodic & north-folding on F-points:\n",
    "nemo = NEMODataTree.from_datasets(datasets=datasets, iperio=True, nftype=\"F\")\n",
    "\n",
    "nemo"
   ]
  },
  {
   "cell_type": "markdown",
   "metadata": {},
   "source": [
    "### **Calculating the AMOC vertical overturning stream function**\n",
    "**Now we have constructed our `NEMODataTree`, let's calculate the vertical overturning stream function.**\n",
    "\n",
    "In this example, our eORCA1 model uses $z^{*}$ vertical coordinates, so using `integral()`, which supports integration along the $i$, $j$, $k$ dimensions of the NEMO model grid, is appropriate. However, this would not be the case if using a NEMO model with geopotential / terrain-following coordinates.**"
   ]
  },
  {
   "cell_type": "code",
   "execution_count": 7,
   "metadata": {},
   "outputs": [
    {
     "data": {
      "text/html": [
       "<pre>&lt;xarray.DataArray &#x27;vo&#x27; (time_counter: 49, k: 75, j: 331)&gt; Size: 10MB\n",
       "dask.array&lt;nancumsum, shape=(49, 75, 331), dtype=float64, chunksize=(1, 25, 331), chunktype=numpy.ndarray&gt;\n",
       "Coordinates:\n",
       "  * time_counter   (time_counter) datetime64[ns] 392B 1976-07-02 ... 2024-07-02\n",
       "  * depthv         (k) float32 300B 0.5058 1.556 2.668 ... 5.698e+03 5.902e+03\n",
       "    time_centered  (time_counter) datetime64[ns] 392B dask.array&lt;chunksize=(1,), meta=np.ndarray&gt;\n",
       "  * k              (k) int64 600B 1 2 3 4 5 6 7 8 9 ... 68 69 70 71 72 73 74 75\n",
       "  * j              (j) float64 3kB 1.5 2.5 3.5 4.5 ... 328.5 329.5 330.5 331.5</pre>"
      ],
      "text/plain": [
       "<xarray.DataArray 'vo' (time_counter: 49, k: 75, j: 331)> Size: 10MB\n",
       "dask.array<nancumsum, shape=(49, 75, 331), dtype=float64, chunksize=(1, 25, 331), chunktype=numpy.ndarray>\n",
       "Coordinates:\n",
       "  * time_counter   (time_counter) datetime64[ns] 392B 1976-07-02 ... 2024-07-02\n",
       "  * depthv         (k) float32 300B 0.5058 1.556 2.668 ... 5.698e+03 5.902e+03\n",
       "    time_centered  (time_counter) datetime64[ns] 392B dask.array<chunksize=(1,), meta=np.ndarray>\n",
       "  * k              (k) int64 600B 1 2 3 4 5 6 7 8 9 ... 68 69 70 71 72 73 74 75\n",
       "  * j              (j) float64 3kB 1.5 2.5 3.5 4.5 ... 328.5 329.5 330.5 331.5"
      ]
     },
     "execution_count": 7,
     "metadata": {},
     "output_type": "execute_result"
    }
   ],
   "source": [
    "atlmask = ds_subbasins['atlmsk'].rename({\"x\":\"i\", \"y\":\"j\"})\n",
    "\n",
    "moc_z_atl = nemo.integral(grid=\"/gridV\",\n",
    "                          var=\"vo\",\n",
    "                          dims=[\"i\", \"k\"], \n",
    "                          cum_dims=[\"k\"],\n",
    "                          dir=\"+1\",\n",
    "                          mask=atlmask\n",
    "                          )\n",
    "\n",
    "moc_z_atl"
   ]
  },
  {
   "cell_type": "markdown",
   "metadata": {},
   "source": [
    "**Notice that the resulting DataArray includes a dask array, so we haven't actually computed the vertical overturning yet. To do this, we need to call the ``.compute()`` method:**"
   ]
  },
  {
   "cell_type": "code",
   "execution_count": 8,
   "metadata": {},
   "outputs": [
    {
     "data": {
      "text/html": [
       "<pre>&lt;xarray.DataArray &#x27;vo&#x27; (time_counter: 49, k: 75, j: 331)&gt; Size: 10MB\n",
       "array([[[ 0.00000000e+00,  0.00000000e+00,  0.00000000e+00, ...,\n",
       "         -5.93256017e-03, -5.98465019e-03, -4.70669708e-03],\n",
       "        [ 0.00000000e+00,  0.00000000e+00,  0.00000000e+00, ...,\n",
       "         -1.23823036e-02, -1.24593425e-02, -9.82934168e-03],\n",
       "        [ 0.00000000e+00,  0.00000000e+00,  0.00000000e+00, ...,\n",
       "         -1.93505099e-02, -1.93588036e-02, -1.51586968e-02],\n",
       "        ...,\n",
       "        [ 0.00000000e+00,  0.00000000e+00,  0.00000000e+00, ...,\n",
       "         -9.30921961e-01, -9.31773471e-01, -9.32592128e-01],\n",
       "        [ 0.00000000e+00,  0.00000000e+00,  0.00000000e+00, ...,\n",
       "         -9.30921961e-01, -9.31773471e-01, -9.32592128e-01],\n",
       "        [ 0.00000000e+00,  0.00000000e+00,  0.00000000e+00, ...,\n",
       "         -9.30921961e-01, -9.31773471e-01, -9.32592128e-01]],\n",
       "\n",
       "       [[ 0.00000000e+00,  0.00000000e+00,  0.00000000e+00, ...,\n",
       "         -9.31946621e-03, -9.62942149e-03, -1.12506309e-02],\n",
       "        [ 0.00000000e+00,  0.00000000e+00,  0.00000000e+00, ...,\n",
       "         -1.87225095e-02, -1.92967880e-02, -2.25915142e-02],\n",
       "        [ 0.00000000e+00,  0.00000000e+00,  0.00000000e+00, ...,\n",
       "         -2.81349402e-02, -2.89098083e-02, -3.37560596e-02],\n",
       "...\n",
       "         -8.73345777e-01, -8.73976184e-01, -8.73915069e-01],\n",
       "        [ 0.00000000e+00,  0.00000000e+00,  0.00000000e+00, ...,\n",
       "         -8.73345777e-01, -8.73976184e-01, -8.73915069e-01],\n",
       "        [ 0.00000000e+00,  0.00000000e+00,  0.00000000e+00, ...,\n",
       "         -8.73345777e-01, -8.73976184e-01, -8.73915069e-01]],\n",
       "\n",
       "       [[ 0.00000000e+00,  0.00000000e+00,  0.00000000e+00, ...,\n",
       "          0.00000000e+00,  0.00000000e+00,  0.00000000e+00],\n",
       "        [ 0.00000000e+00,  0.00000000e+00,  0.00000000e+00, ...,\n",
       "          0.00000000e+00,  0.00000000e+00,  0.00000000e+00],\n",
       "        [ 0.00000000e+00,  0.00000000e+00,  0.00000000e+00, ...,\n",
       "          0.00000000e+00,  0.00000000e+00,  0.00000000e+00],\n",
       "        ...,\n",
       "        [ 0.00000000e+00,  0.00000000e+00,  0.00000000e+00, ...,\n",
       "          0.00000000e+00,  0.00000000e+00,  0.00000000e+00],\n",
       "        [ 0.00000000e+00,  0.00000000e+00,  0.00000000e+00, ...,\n",
       "          0.00000000e+00,  0.00000000e+00,  0.00000000e+00],\n",
       "        [ 0.00000000e+00,  0.00000000e+00,  0.00000000e+00, ...,\n",
       "          0.00000000e+00,  0.00000000e+00,  0.00000000e+00]]],\n",
       "      shape=(49, 75, 331))\n",
       "Coordinates:\n",
       "  * time_counter   (time_counter) datetime64[ns] 392B 1976-07-02 ... 2024-07-02\n",
       "  * depthv         (k) float32 300B 0.5058 1.556 2.668 ... 5.698e+03 5.902e+03\n",
       "    time_centered  (time_counter) datetime64[ns] 392B 1976-07-02 ... 2024-07-02\n",
       "  * k              (k) int64 600B 1 2 3 4 5 6 7 8 9 ... 68 69 70 71 72 73 74 75\n",
       "  * j              (j) float64 3kB 1.5 2.5 3.5 4.5 ... 328.5 329.5 330.5 331.5</pre>"
      ],
      "text/plain": [
       "<xarray.DataArray 'vo' (time_counter: 49, k: 75, j: 331)> Size: 10MB\n",
       "array([[[ 0.00000000e+00,  0.00000000e+00,  0.00000000e+00, ...,\n",
       "         -5.93256017e-03, -5.98465019e-03, -4.70669708e-03],\n",
       "        [ 0.00000000e+00,  0.00000000e+00,  0.00000000e+00, ...,\n",
       "         -1.23823036e-02, -1.24593425e-02, -9.82934168e-03],\n",
       "        [ 0.00000000e+00,  0.00000000e+00,  0.00000000e+00, ...,\n",
       "         -1.93505099e-02, -1.93588036e-02, -1.51586968e-02],\n",
       "        ...,\n",
       "        [ 0.00000000e+00,  0.00000000e+00,  0.00000000e+00, ...,\n",
       "         -9.30921961e-01, -9.31773471e-01, -9.32592128e-01],\n",
       "        [ 0.00000000e+00,  0.00000000e+00,  0.00000000e+00, ...,\n",
       "         -9.30921961e-01, -9.31773471e-01, -9.32592128e-01],\n",
       "        [ 0.00000000e+00,  0.00000000e+00,  0.00000000e+00, ...,\n",
       "         -9.30921961e-01, -9.31773471e-01, -9.32592128e-01]],\n",
       "\n",
       "       [[ 0.00000000e+00,  0.00000000e+00,  0.00000000e+00, ...,\n",
       "         -9.31946621e-03, -9.62942149e-03, -1.12506309e-02],\n",
       "        [ 0.00000000e+00,  0.00000000e+00,  0.00000000e+00, ...,\n",
       "         -1.87225095e-02, -1.92967880e-02, -2.25915142e-02],\n",
       "        [ 0.00000000e+00,  0.00000000e+00,  0.00000000e+00, ...,\n",
       "         -2.81349402e-02, -2.89098083e-02, -3.37560596e-02],\n",
       "...\n",
       "         -8.73345777e-01, -8.73976184e-01, -8.73915069e-01],\n",
       "        [ 0.00000000e+00,  0.00000000e+00,  0.00000000e+00, ...,\n",
       "         -8.73345777e-01, -8.73976184e-01, -8.73915069e-01],\n",
       "        [ 0.00000000e+00,  0.00000000e+00,  0.00000000e+00, ...,\n",
       "         -8.73345777e-01, -8.73976184e-01, -8.73915069e-01]],\n",
       "\n",
       "       [[ 0.00000000e+00,  0.00000000e+00,  0.00000000e+00, ...,\n",
       "          0.00000000e+00,  0.00000000e+00,  0.00000000e+00],\n",
       "        [ 0.00000000e+00,  0.00000000e+00,  0.00000000e+00, ...,\n",
       "          0.00000000e+00,  0.00000000e+00,  0.00000000e+00],\n",
       "        [ 0.00000000e+00,  0.00000000e+00,  0.00000000e+00, ...,\n",
       "          0.00000000e+00,  0.00000000e+00,  0.00000000e+00],\n",
       "        ...,\n",
       "        [ 0.00000000e+00,  0.00000000e+00,  0.00000000e+00, ...,\n",
       "          0.00000000e+00,  0.00000000e+00,  0.00000000e+00],\n",
       "        [ 0.00000000e+00,  0.00000000e+00,  0.00000000e+00, ...,\n",
       "          0.00000000e+00,  0.00000000e+00,  0.00000000e+00],\n",
       "        [ 0.00000000e+00,  0.00000000e+00,  0.00000000e+00, ...,\n",
       "          0.00000000e+00,  0.00000000e+00,  0.00000000e+00]]],\n",
       "      shape=(49, 75, 331))\n",
       "Coordinates:\n",
       "  * time_counter   (time_counter) datetime64[ns] 392B 1976-07-02 ... 2024-07-02\n",
       "  * depthv         (k) float32 300B 0.5058 1.556 2.668 ... 5.698e+03 5.902e+03\n",
       "    time_centered  (time_counter) datetime64[ns] 392B 1976-07-02 ... 2024-07-02\n",
       "  * k              (k) int64 600B 1 2 3 4 5 6 7 8 9 ... 68 69 70 71 72 73 74 75\n",
       "  * j              (j) float64 3kB 1.5 2.5 3.5 4.5 ... 328.5 329.5 330.5 331.5"
      ]
     },
     "execution_count": 8,
     "metadata": {},
     "output_type": "execute_result"
    }
   ],
   "source": [
    "# Compute vertical overturning stream function in Sverdrups [1 Sv = 1E6 m3/s]:\n",
    "moc_z_atl = 1E-6 * moc_z_atl.compute()\n",
    "\n",
    "moc_z_atl"
   ]
  },
  {
   "cell_type": "markdown",
   "metadata": {},
   "source": [
    "### **Visualising the time-mean AMOC vertical overturning stream function**\n",
    "\n",
    "**Finally, let's visualise the results by plotting the time-mean Atlantic Meridional Overturning stream function in depth-coordinates:**"
   ]
  },
  {
   "cell_type": "code",
   "execution_count": 10,
   "metadata": {},
   "outputs": [
    {
     "data": {
      "text/plain": [
       "<matplotlib.collections.QuadMesh at 0x32cf60cd0>"
      ]
     },
     "execution_count": 10,
     "metadata": {},
     "output_type": "execute_result"
    },
    {
     "data": {
      "image/png": "[encoded data removed]",
      "text/plain": [
       "<Figure size 640x480 with 2 Axes>"
      ]
     },
     "metadata": {},
     "output_type": "display_data"
    }
   ],
   "source": [
    "moc_z_atl.mean(dim='time_counter').plot(y='depthv', yincrease=False)"
   ]
  }
 ],
 "metadata": {
  "kernelspec": {
   "display_name": "env_nemo_cookbook",
   "language": "python",
   "name": "python3"
  },
  "language_info": {
   "codemirror_mode": {
    "name": "ipython",
    "version": 3
   },
   "file_extension": ".py",
   "mimetype": "text/x-python",
   "name": "python",
   "nbconvert_exporter": "python",
   "pygments_lexer": "ipython3",
   "version": "3.13.5"
  }
 },
 "nbformat": 4,
 "nbformat_minor": 2
}
