{
 "cells": [
  {
   "cell_type": "markdown",
   "id": "4fb25627",
   "metadata": {},
   "source": [
    "### **Tutorial: Introducing NEMODataTree**\n",
    "\n",
    "#### **Description:**\n",
    "Introductory tutorial to the NEMODataTree object, extending the xarray.DataTree data structure.\n",
    "\n",
    "#### **Created By:**\n",
    "Ollie Tooth (oliver.tooth@noc.ac.uk)"
   ]
  },
  {
   "cell_type": "code",
   "execution_count": 1,
   "id": "1e4a8216",
   "metadata": {},
   "outputs": [],
   "source": [
    "# -- Import Python dependencies -- #\n",
    "import numpy as np\n",
    "import xarray as xr\n",
    "from nemo_cookbook import NEMODataTree\n",
    "import matplotlib.pyplot as plt"
   ]
  },
  {
   "cell_type": "markdown",
   "id": "7954e891",
   "metadata": {},
   "source": [
    "#### **Downloading Example NEMO Outputs: AGRIF_DEMO**\n",
    "\n",
    "* Let's start by downloading example NEMO mode outputs generated from the AGRIF_DEMO reference case:"
   ]
  },
  {
   "cell_type": "code",
   "execution_count": null,
   "id": "1331664b",
   "metadata": {},
   "outputs": [],
   "source": [
    "# -- Example downloading AGRIF_DEMO data -- #\n",
    "import os\n",
    "import urllib.request\n",
    "import shutil\n",
    "\n",
    "# Create output directory:\n",
    "out_dir = \"example_data\"\n",
    "os.makedirs(out_dir, exist_ok=True)\n",
    "\n",
    "# List of files to download:\n",
    "base_url = \"https://noc-msm-o.s3-ext.jc.rl.ac.uk/nemo-cookbook/examples/AGRIF-DEMO\"\n",
    "files_parent = [f\"ORCA2_5d_00010101_00010110_grid_{grid}.nc\" for grid in ['T', 'U', 'V']]\n",
    "files_child = [f\"2_Nordic_5d_00010101_00010110_grid_{grid}.nc\" for grid in ['T', 'U', 'V']]\n",
    "files_grandchild = [f\"3_Nordic_5d_00010101_00010110_grid_{grid}.nc\" for grid in ['T', 'U', 'V']]\n",
    "files = [\"domain_cfg.nc\", \"2_domain_cfg.nc\", \"3_domain_cfg.nc\", *files_parent, *files_child, *files_grandchild]\n",
    "\n",
    "# Download files to output directory:\n",
    "for file in files:\n",
    "    print(f\"Downloading {file} ...\")\n",
    "    url = f\"{base_url}/{file}\"\n",
    "    out_fpath = f\"{out_dir}/{file}\"\n",
    "    if os.path.exists(out_fpath):\n",
    "        print(\"... file already exists, skipping download.\")\n",
    "        continue\n",
    "    with urllib.request.urlopen(url) as response, open(out_fpath, 'wb') as out_file:\n",
    "        shutil.copyfileobj(response, out_file)"
   ]
  },
  {
   "cell_type": "markdown",
   "id": "43793a8b",
   "metadata": {},
   "source": [
    "#### **Downloading Example NEMO Outputs: AMM12**\n",
    "\n",
    "* Let's start by downloading example NEMO mode outputs generated from the AMM12 reference case:"
   ]
  },
  {
   "cell_type": "code",
   "execution_count": null,
   "id": "6eb88aee",
   "metadata": {},
   "outputs": [],
   "source": [
    "# -- Example downloading AGRIF_DEMO data -- #\n",
    "import os\n",
    "import urllib.request\n",
    "import shutil\n",
    "\n",
    "# Create output directory:\n",
    "out_dir = \"example_data/AMM12\"\n",
    "os.makedirs(out_dir, exist_ok=True)\n",
    "\n",
    "# List of files to download:\n",
    "base_url = \"https://noc-msm-o.s3-ext.jc.rl.ac.uk/nemo-cookbook/examples/AMM12\"\n",
    "files_parent = [f\"AMM12_1d_20120102_20120110_grid_{grid}.nc\" for grid in ['T', 'U', 'V']]\n",
    "files = [\"domain_cfg.nc\" , *files_parent]\n",
    "\n",
    "# Download files to output directory:\n",
    "for file in files:\n",
    "    print(f\"Downloading {file} ...\")\n",
    "    url = f\"{base_url}/{file}\"\n",
    "    out_fpath = f\"{out_dir}/{file}\"\n",
    "    if os.path.exists(out_fpath):\n",
    "        print(\"... file already exists, skipping download.\")\n",
    "        continue\n",
    "    with urllib.request.urlopen(url) as response, open(out_fpath, 'wb') as out_file:\n",
    "        shutil.copyfileobj(response, out_file)"
   ]
  },
  {
   "cell_type": "code",
   "execution_count": null,
   "id": "f9762995",
   "metadata": {},
   "outputs": [],
   "source": [
    "# Input to NEMODataTree.from_dict() should be a dictionary or nested dictionary:\n",
    "# TODO: Handling nav_lev or z vertical dimension in domain_cfg.nc files:\n",
    "root_path = \"./example_data/AMM12\"\n",
    "\n",
    "paths = {\"parent\": {\n",
    "        \"domain\": f\"{root_path}/domain_cfg.nc\",\n",
    "        \"gridT\": f\"{root_path}/AMM12_1d_20120102_20120110_grid_T.nc\",\n",
    "        \"gridU\": f\"{root_path}/AMM12_1d_20120102_20120110_grid_U.nc\",\n",
    "        \"gridV\": f\"{root_path}/AMM12_1d_20120102_20120110_grid_V.nc\",\n",
    "        }}\n",
    "\n",
    "nemo = NEMODataTree.from_paths(paths=paths, nests=None, iperio=False, nftype=None)\n",
    "\n",
    "nemo"
   ]
  },
  {
   "cell_type": "code",
   "execution_count": null,
   "id": "1e5667f3",
   "metadata": {},
   "outputs": [],
   "source": [
    "xr.open_dataset(f\"{root_path}/domain_cfg.nc\")"
   ]
  },
  {
   "cell_type": "markdown",
   "id": "a5a489ef",
   "metadata": {},
   "source": [
    "#### **Defining Example NEMO Outputs: AGRIF_DEMO**\n",
    "\n",
    "* Let's start by creating the expected input dictionaries describing the filepaths and properties of our parent and child domains.\n",
    "\n",
    "* In this example, we will consider outputs for the ORCA2 global domain and Nordic Seas child domain produced by the AGRIF_DEMO reference case. For now, we will not consider the grandchild domain which is included within the Nordic Seas child domain.\n",
    "\n",
    "* We first define the `paths` dictionary, which itself contains up to three nested dictionaries (\"parent\", \"child\" and \"grandchild\"). The \"parent\" dictionary defines the filepaths to the domain_cfg and gridT/U/V/W output files produced by NEMO for our ORCA2 parent domain. The \"child dictionary defines the equivalent filepaths for one or more child domains, which are themselves nested inside the \"child\" dictionary with unique domain labels \"1\", \"2\" etc. The \"grandchild\" dictionary defines the filepaths for one of more grandchild domains using the same nested structure as the \"child\" dictionary. Notably, the unique domain label for the first grandchild domain should be a continuation from the final entry in the \"child\" dictionary. The gridF node will be created from a new Dataset populated with the F-grid domain variables (i.e., `e1f`, `e2f`, `e3f`, `glamf`, `gphif` etc.) \n",
    "\n",
    "* Next, we define the `nests` dictionary, which describes the properties of child and grandchild domains to be stored in the DataTree. For each child or grandchild domain, a nested dictionary should be included in `nests` which defines the following domain properties: `parent`: unqiue label identifying parent domain, `rx`, `ry`: horizontal grid refinement factors used in this nest, `imin`, `imax`, `jmin`, `jmax`: i,j coordinates used to define the nest domain within the parent domain. All of the above properties should be transferred from the AGRIF_FIXEDGRIDS.in ancilary file used to perform the simulation.\n",
    "\n",
    "**Note: If we do not specify paths to all of the NEMO model grid files (T/U/V/W), these will be created and populated with domain variables (e.g., `e1u`, `glamu`, `gphiu` etc.)**"
   ]
  },
  {
   "cell_type": "code",
   "execution_count": null,
   "id": "f36b3964",
   "metadata": {},
   "outputs": [],
   "source": [
    "# Define root_path to example AGRIF_DEMO model output:\n",
    "root_path = \"./example_data/AGRIF_DEMO\"\n",
    "\n",
    "\n",
    "# Define paths dictionary with ORCA2 parent and Nordic child domains:\n",
    "paths = {\"parent\": {\n",
    "        \"domain\": f\"{root_path}/domain_cfg.nc\",\n",
    "        \"gridT\": f\"{root_path}/ORCA2_5d_00010101_00010110_grid_T.nc\",\n",
    "        \"gridU\": f\"{root_path}/ORCA2_5d_00010101_00010110_grid_U.nc\",\n",
    "        \"gridV\": f\"{root_path}/ORCA2_5d_00010101_00010110_grid_V.nc\",\n",
    "        },\n",
    "        \"child\": {\n",
    "        \"1\":{\n",
    "        \"domain\": f\"{root_path}/2_domain_cfg.nc\",\n",
    "        \"gridT\": f\"{root_path}/2_Nordic_5d_00010101_00010110_grid_T.nc\",\n",
    "        \"gridU\": f\"{root_path}/2_Nordic_5d_00010101_00010110_grid_U.nc\",\n",
    "        \"gridV\": f\"{root_path}/2_Nordic_5d_00010101_00010110_grid_V.nc\",\n",
    "        }},\n",
    "        }\n",
    "\n",
    "# Define properties of Nordic child domain [nest] (using Fortran-indexing as in NEMO):\n",
    "nests = {\n",
    "    \"1\": {\n",
    "    \"parent\": \"/\",\n",
    "    \"rx\": 4,\n",
    "    \"ry\": 4,\n",
    "    \"imin\": 121,\n",
    "    \"imax\": 146,\n",
    "    \"jmin\": 113,\n",
    "    \"jmax\": 133,\n",
    "    \"iperio\": False\n",
    "    },\n",
    "    }"
   ]
  },
  {
   "cell_type": "markdown",
   "id": "9ead9401",
   "metadata": {},
   "source": [
    "#### **Defining NEMODataTree:**\n",
    "\n",
    "* `NEMODataTree` is an extension of the xarray.DataTree structure designed to store a collection of xarray objects as nodes in a hierarchical tree.\n",
    "\n",
    "* A new `NEMODataTree` object can be created / instantiated by using a constructor, `.from_paths()` or `.from_datasets()`.\n",
    "\n",
    "* Here, we demonstrate how to create a new `NEMODataTree` called `nemo` from the paths and nests dictionaries defined above.\n",
    "\n",
    "* **Note 1.** we need to specify that our parent domain is zonally periodic (`iperio`) and north folding on T-points (ORCA2) rather than a closed (regional) domain.\n",
    "\n",
    "* **Note 2.** we also do not need to include the `tmask`, `umask`...`fmask` arrays in our domain_cfg.nc input file since these are calculated in the `mask.py` utility module using the `top_level` and `bottom_level` variables analogously to the NEMO DOMAINcfg (lateral boundary conditions - north folding - is accounted for)."
   ]
  },
  {
   "cell_type": "code",
   "execution_count": null,
   "id": "a5292c8d",
   "metadata": {},
   "outputs": [],
   "source": [
    "nemo = NEMODataTree.from_paths(paths=paths, nests=nests, iperio=True, nftype=\"T\")\n",
    "nemo"
   ]
  },
  {
   "cell_type": "markdown",
   "id": "02e9afc5",
   "metadata": {},
   "source": [
    "#### **What's in the NEMODataTree?**\n",
    "\n",
    "By looking at the output of our `NEMODataTree` above, we can see that each `NEMODataTree` contains:\n",
    "\n",
    "* a root node at path \"/\" which contains only the coodinates and data variables which are inherited by all of it's child nodes. In our case, this is only the `time_counter` coordinates. The root node is special as it has no parent.\n",
    "\n",
    "* the root node has 5 child nodes which collectively define the parent model domain (i.e., ORCA2). Each child node corresponds to a NEMO model grid Dataset. In this case, '/gridT' is the ORCA2 T-grid (including corresponding domain variables), '/gridU' is the ORCA2 U-grid and so on.\n",
    "\n",
    "* each child node has a further child node (grandchild to the root node) corresponding to the equivalent NEMO model grid Dataset in the child domain. In this example, '/gridT/1_gridT' is the Nordic Seas T-grid (including corresponding domain variables) which is nested inside the ORCA2 T-grid. For additional child domains, the node paths take the form '/grid{grid_type}/{label}_grid{grid_type}' where `grid_type` is one of `[\"T\", \"U\", \"V\", \"W\", \"F\"]` and `label` is the unique label of this child domain.\n",
    "\n",
    "In addition to the defining a hierarchical structure to store and analyse NEMO model outputs, creating a `NEMODataTree` transforms the coordinates of the output files to use the `i`, `j`, `k` coordinate system used by NEMO itself. This means all gridT nodes / Datasets have coordinates `i`, `j`, `k` which are all integer values. Meanwhile, gridU / V / W / F nodes / Datasets have coordinates `i`, `j`, `k` which are all integer and a half values as shown in **Table 3.1** of the NEMO Manual (https://zenodo.org/records/14515373).\n",
    "\n",
    "**Note, each child grid Dataset also inherits the coordinates of its parent grid following DataTree inheritance.**"
   ]
  },
  {
   "cell_type": "code",
   "execution_count": null,
   "id": "8ed5f983",
   "metadata": {},
   "outputs": [],
   "source": [
    "nemo['/gridT/1_gridT']"
   ]
  },
  {
   "cell_type": "markdown",
   "id": "d758236f",
   "metadata": {},
   "source": [
    "**Note:** Child domains are pre-processed to remove the `nghost_w`, `nghost_s` = 4 ghost points included in NEMO AGRIF outputs. This means that we can easily translate between a given child and parent domain in our analyses without having to account for ghost points (i.e., when performing aggregations, such as volume/area-weighted averages over the child domain)."
   ]
  },
  {
   "cell_type": "markdown",
   "id": "2c13f7d5",
   "metadata": {},
   "source": [
    "#### **Implementing NEMO Scalar & Vector Operations**\n",
    "\n",
    "**1. Scalar Operations**\n",
    "\n",
    "Following the NEMO Manual, the gradient of a variable $q$ can be defined in discrete form in curvilinear $s$-coordinates as:\n",
    "\n",
    "$$\\nabla q = \\frac{1}{e_{1u}} \\delta_{i+1/2} [q] i + \\frac{1}{e_{2v}} \\delta_{j+1/2} [q] j + \\frac{1}{e_{3t}} \\delta_{k+1/2} [q] k$$\n",
    "\n",
    "where $\\delta_{i} [q]$ is the difference operator defined by:\n",
    "\n",
    "$$\\delta_{i} [q] = q(i + 1/2) - q(i - 1/2)$$\n",
    "\n",
    "To calculate the gradient along a single dimension (e.g., $\\nabla q . i$), we can use the `NEMODataTree.gradient()` method."
   ]
  },
  {
   "cell_type": "code",
   "execution_count": null,
   "id": "4e511861",
   "metadata": {},
   "outputs": [],
   "source": [
    "# -- Figure -- #\n",
    "# Plotting the sea surface height (SSH) from the gridT variable in the Nordic child domain:\n",
    "plt.figure()\n",
    "nemo['/gridT/1_gridT']['zos'].where(nemo['/gridT/1_gridT']['tmask'].isel(k1=0)).plot()\n",
    "\n",
    "# -- Figure -- #\n",
    "plt.figure()\n",
    "# Plotting the zonal gradient of the sea surface height (SSH) from the gridT variable in the Nordic child domain:\n",
    "nemo.gradient(var='zos', dom='1', dim='i').plot()\n",
    "\n",
    "# -- Figure -- #\n",
    "plt.figure()\n",
    "# Plotting the meridional gradient of the sea surface height (SSH) from the gridT variable in the Nordic child domain:\n",
    "nemo.gradient(var='zos', dom='1', dim='j').plot()"
   ]
  },
  {
   "cell_type": "code",
   "execution_count": null,
   "id": "afbf925a",
   "metadata": {},
   "outputs": [],
   "source": [
    "# -- Figure -- #\n",
    "# Plotting vertical temperature (thetao) section from the gridT variable in the Nordic child domain:\n",
    "plt.figure()\n",
    "nemo['/gridT/1_gridT']['thetao'].isel(j1=0).plot(y='1_deptht')\n",
    "plt.ylim([3500, 0])\n",
    "\n",
    "# -- Figure -- #\n",
    "# Plotting vertical temperature (thetao) gradient from the gridT variable in the Nordic child domain:\n",
    "plt.figure()\n",
    "nemo.gradient(var='thetao', dom='1', dim='k').isel(j1=0).plot(y='1_depthw')\n",
    "plt.ylim([3500, 0])"
   ]
  },
  {
   "cell_type": "code",
   "execution_count": null,
   "id": "cc26a2e3",
   "metadata": {},
   "outputs": [],
   "source": [
    "nemo.divergence(vars=['uo', 'vo'], dom=\"1\").isel(k1=0).plot()"
   ]
  },
  {
   "cell_type": "code",
   "execution_count": null,
   "id": "cc3764bf",
   "metadata": {},
   "outputs": [],
   "source": [
    "nemo.curl(vars=['uo', 'vo'], dom=\"1\").isel(k1=0).plot()"
   ]
  },
  {
   "cell_type": "markdown",
   "id": "4da26406",
   "metadata": {},
   "source": [
    "### **Masking Functions**"
   ]
  },
  {
   "cell_type": "code",
   "execution_count": null,
   "id": "97ae78d0",
   "metadata": {},
   "outputs": [],
   "source": [
    "# Define bbox to mask:\n",
    "lon_poly = [-80, 10, 10, -80, -80]\n",
    "lat_poly = [20, 20, 40, 40, 20]\n",
    "\n",
    "mask_test = nemo.mask_with_polygon(lon_poly=lon_poly, lat_poly=lat_poly, dom='.')\n",
    "\n",
    "nemo['/gridT']['tos'].where(mask_test).plot()"
   ]
  },
  {
   "cell_type": "code",
   "execution_count": null,
   "id": "cc343115",
   "metadata": {},
   "outputs": [],
   "source": [
    "# -- Masked statistics -- #\n",
    "nemo['/gridT']['tos'].where(nemo['/gridT']['tmask'] & mask_test).weighted(nemo['/gridT']['e1t'] * nemo['/gridT']['e2t']).mean(dim=[\"j\", \"i\"], skipna=True).plot()\n",
    "nemo['/gridT']['tos'].where(nemo['/gridT']['tmask'] & mask_test).mean(dim=[\"j\", \"i\"], skipna=True).plot()"
   ]
  },
  {
   "cell_type": "markdown",
   "id": "bb91ee31",
   "metadata": {},
   "source": [
    "### **Interpolation / Coordinate Transformation Functions**"
   ]
  },
  {
   "cell_type": "code",
   "execution_count": null,
   "id": "be76c14c",
   "metadata": {},
   "outputs": [],
   "source": [
    "# .transform_hgrid() method to transform T-point variable to U/V/W/F-point:\n",
    "nemo[\"/gridT\"][\"zos\"].interp(i=nemo[\"/gridU\"][\"i\"], method=\"linear\").where(nemo[\"/gridU\"][\"umask\"].isel(k=0)).plot()\n",
    "# nemo[\"/gridT\"][\"zos\"].interp(j=nemo[\"/gridV\"][\"j\"], method=\"linear\").where(nemo[\"/gridV\"][\"vmask\"].isel(k=0)).plot()\n",
    "# nemo[\"/gridT\"][\"zos\"].interp(i=nemo[\"/gridU\"][\"i\"], j=nemo[\"/gridV\"][\"j\"], method=\"linear\").where(nemo[\"/gridF\"][\"fmask\"].isel(k=0)).plot()"
   ]
  },
  {
   "cell_type": "markdown",
   "id": "a39f0e1e",
   "metadata": {},
   "source": [
    "### **Comparing parent & child domains.**"
   ]
  },
  {
   "cell_type": "code",
   "execution_count": null,
   "id": "04ffaa17",
   "metadata": {},
   "outputs": [],
   "source": [
    "nemo['/gridT']['zos'].where(nemo['/gridT']['tmask'].isel(k=0)).isel(time_counter=0).plot(cmap='RdBu_r')\n",
    "plt.plot([121, 147, 147, 121, 121], [113, 113, 134, 134, 113], lw=2, color='0.1')"
   ]
  },
  {
   "cell_type": "code",
   "execution_count": null,
   "id": "d7896f17",
   "metadata": {},
   "outputs": [],
   "source": [
    "(nemo['/gridT/1_gridT']['zos'].where(nemo['/gridT/1_gridT']['tmask'].isel(k1=0))).isel(time_counter=0).plot(cmap='RdBu_r')"
   ]
  },
  {
   "cell_type": "markdown",
   "id": "8a6a4eb6",
   "metadata": {},
   "source": [
    "#### **RAPID-Evolution**"
   ]
  },
  {
   "cell_type": "code",
   "execution_count": 2,
   "id": "8949bbe9",
   "metadata": {},
   "outputs": [],
   "source": [
    "# -- Import Python dependencies -- #\n",
    "import xarray as xr\n",
    "from nemo_cookbook import NEMODataTree"
   ]
  },
  {
   "cell_type": "code",
   "execution_count": 3,
   "id": "3c065af1",
   "metadata": {},
   "outputs": [],
   "source": [
    "root_path = \"https://rapidevolution-o.s3-ext.jc.rl.ac.uk/r-evo1-eorca025-rapid12-rapid36\"\n",
    "\n",
    "dsPdom = xr.open_dataset('/Users/otooth/Library/CloudStorage/OneDrive-NOC/Projects/nemo_cookbook/data/RAPID-Evolution/eORCA025-RAPID12-RAPID36_domain_cfg.nc')\n",
    "ds1dom = xr.open_dataset('/Users/otooth/Library/CloudStorage/OneDrive-NOC/Projects/nemo_cookbook/data/RAPID-Evolution/1_eORCA025-RAPID12-RAPID36_domain_cfg.nc')\n",
    "ds2dom = xr.open_dataset('/Users/otooth/Library/CloudStorage/OneDrive-NOC/Projects/nemo_cookbook/data/RAPID-Evolution/2_eORCA025-RAPID12-RAPID36_domain_cfg.nc')\n",
    "\n",
    "dsP_gridT = xr.open_zarr(f'{root_path}/eORCA025/T1m/thetao_con')\n",
    "ds1_gridT = xr.open_zarr(f'{root_path}/RAPID12/T1m/thetao_con')\n",
    "ds2_gridT = xr.open_zarr(f'{root_path}/RAPID36/T1m/thetao_con')\n",
    "\n",
    "dsP_gridU = xr.open_zarr(f'{root_path}/eORCA025/U1m/uo')\n",
    "ds1_gridU = xr.open_zarr(f'{root_path}/RAPID12/U1m/uo')\n",
    "ds2_gridU = xr.open_zarr(f'{root_path}/RAPID36/U1m/uo')\n",
    "\n",
    "dsP_gridV = xr.open_zarr(f'{root_path}/eORCA025/V1m/vo')\n",
    "ds1_gridV = xr.open_zarr(f'{root_path}/RAPID12/V1m/vo')\n",
    "ds2_gridV = xr.open_zarr(f'{root_path}/RAPID36/V1m/vo')\n"
   ]
  },
  {
   "cell_type": "code",
   "execution_count": 7,
   "id": "b09b4441",
   "metadata": {},
   "outputs": [
    {
     "data": {
      "text/plain": [
       "<matplotlib.collections.QuadMesh at 0x30fe9c6e0>"
      ]
     },
     "execution_count": 7,
     "metadata": {},
     "output_type": "execute_result"
    },
    {
     "data": {
      "image/png": "[encoded data removed]",
      "text/plain": [
       "<Figure size 640x480 with 2 Axes>"
      ]
     },
     "metadata": {},
     "output_type": "display_data"
    }
   ],
   "source": [
    "ds1_gridT.thetao_con.isel(time_counter=0, deptht=0).plot()"
   ]
  },
  {
   "cell_type": "code",
   "execution_count": 10,
   "id": "2c4270e0",
   "metadata": {},
   "outputs": [
    {
     "data": {
      "text/plain": [
       "array([      nan, 27.151855, 27.151855, 27.151854, 27.118425, 27.104204,\n",
       "       27.094406, 27.073133, 27.061222, 27.04833 , 27.032934, 27.018023,\n",
       "       27.002207, 26.98578 , 26.969973, 26.953918, 26.937965, 26.921877,\n",
       "       26.905523, 26.88857 , 26.871826, 26.854456, 26.837193, 26.82102 ,\n",
       "       26.805344, 26.7899  , 26.775248, 26.760881, 26.746084, 26.731066,\n",
       "       26.715164, 26.698526, 26.679958, 26.663105, 26.64725 , 26.631538,\n",
       "       26.615002, 26.597942, 26.581015, 26.564342, 26.548246, 26.532326,\n",
       "       26.516663, 26.501154, 26.486055, 26.470888, 26.45561 , 26.439426,\n",
       "       26.42349 , 26.407242, 26.39156 , 26.375748, 26.359716, 26.34367 ,\n",
       "       26.327694, 26.311024, 26.294813, 26.278946, 26.263367, 26.247923,\n",
       "       26.233286, 26.21942 , 26.206064, 26.193424, 26.181238, 26.169575,\n",
       "       26.15865 , 26.146835, 26.136726, 26.126589, 26.115257, 26.102842,\n",
       "       26.09019 , 26.077948, 26.065863, 26.054129, 26.04037 , 26.027594,\n",
       "       26.013884, 26.000366, 25.98837 , 25.974339, 25.961884, 25.949856,\n",
       "       25.938198, 25.926199, 25.914156, 25.902395, 25.889387, 25.877474,\n",
       "       25.865128, 25.854656, 25.845808, 25.83635 , 25.827213, 25.819208,\n",
       "       25.809978, 25.801954, 25.793213, 25.78317 , 25.773336, 25.76272 ,\n",
       "       25.7499  , 25.735632, 25.720716, 25.704933, 25.690605, 25.674248,\n",
       "       25.658892, 25.64108 , 25.625006, 25.61132 , 25.598564, 25.585993,\n",
       "       25.573168, 25.56119 , 25.547405, 25.534235, 25.51881 , 25.502586,\n",
       "       25.488638, 25.475689, 25.462444, 25.448002, 25.434301, 25.42022 ,\n",
       "       25.408857, 25.397793, 25.385073, 25.372467, 25.359068, 25.345629,\n",
       "       25.333696, 25.319992, 25.307669, 25.29591 , 25.284391, 25.271492,\n",
       "       25.260542, 25.246778, 25.234419, 25.22102 , 25.20711 , 25.192417,\n",
       "       25.178747, 25.165922, 25.15262 , 25.140053, 25.12767 , 25.115631,\n",
       "       25.102844, 25.091164, 25.080393, 25.070272, 25.061222, 25.051659,\n",
       "       25.04298 , 25.03395 , 25.023447, 25.011806, 24.99939 , 24.986387,\n",
       "       24.973463, 24.960495, 24.94747 , 24.934387, 24.921133, 24.90796 ,\n",
       "       24.8952  , 24.882301, 24.868824, 24.8549  , 24.841663, 24.828781,\n",
       "       24.815973, 24.803717, 24.790813, 24.777294, 24.763988, 24.750385,\n",
       "       24.737413, 24.724272, 24.71091 , 24.697392, 24.683964, 24.670397,\n",
       "       24.655834, 24.639309, 24.621769, 24.604464, 24.587328, 24.569675,\n",
       "       24.552721, 24.535185, 24.516872, 24.49955 , 24.483736, 24.467937,\n",
       "       24.45077 , 24.432623, 24.414476, 24.39724 , 24.380478, 24.363722,\n",
       "       24.347256, 24.330544, 24.314348, 24.297634, 24.279745, 24.261366,\n",
       "       24.241928, 24.221807, 24.200344, 24.177078, 24.152906, 24.129784,\n",
       "       24.106281, 24.08234 , 24.057472, 24.031189, 24.004349, 23.978071,\n",
       "       23.951633, 23.9232  , 23.893856, 23.865108, 23.835436, 23.805874,\n",
       "       23.776367, 23.74806 , 23.719711, 23.691837, 23.66539 , 23.637182,\n",
       "       23.607904, 23.578194, 23.547554, 23.51719 , 23.486004, 23.453299,\n",
       "       23.420456, 23.388483, 23.35715 , 23.325644, 23.295233, 23.264315,\n",
       "       23.233578, 23.202341, 23.171164, 23.139956, 23.108444, 23.075539,\n",
       "       23.04199 , 23.009447, 22.976282, 22.94351 , 22.911999, 22.880318,\n",
       "       22.84783 , 22.816206, 22.78454 , 22.75212 , 22.720617, 22.687426,\n",
       "       22.653337, 22.619535, 22.5863  , 22.55336 , 22.52187 , 22.489237,\n",
       "       22.456762, 22.424704, 22.391876, 22.359093, 22.325706, 22.29378 ,\n",
       "       22.261044, 22.22757 , 22.194407, 22.16289 , 22.13237 , 22.10049 ,\n",
       "       22.069565, 22.039808, 22.008997, 21.977   , 21.946089, 21.914791,\n",
       "       21.883228, 21.851875, 21.821217, 21.790794, 21.760962, 21.72953 ,\n",
       "       21.698755, 21.67089 , 21.643183, 21.615072, 21.58621 , 21.558083,\n",
       "       21.531715, 21.505468, 21.478228, 21.449745, 21.421137, 21.392332,\n",
       "       21.36362 , 21.33491 , 21.309322, 21.281914, 21.25228 , 21.223192,\n",
       "       21.193956, 21.163794, 21.13244 , 21.101944, 21.069859, 21.037626,\n",
       "       21.004732, 20.971619, 20.938442, 20.903837, 20.868624, 20.833797,\n",
       "       20.798521, 20.763338, 20.728443, 20.69353 , 20.658388, 20.623026,\n",
       "       20.587132, 20.551897, 20.51745 , 20.483532, 20.449263, 20.415228,\n",
       "       20.38144 , 20.34798 , 20.314785, 20.281826, 20.248955, 20.216467,\n",
       "       20.183477, 20.15109 , 20.118984, 20.086208, 20.054071, 20.021673,\n",
       "       19.989666, 19.957449, 19.925066, 19.892159, 19.85944 , 19.826849,\n",
       "       19.793531, 19.760693, 19.728312, 19.696302, 19.665318, 19.635555,\n",
       "       19.606575, 19.578442, 19.550005, 19.521633, 19.493395, 19.465542,\n",
       "       19.43764 , 19.40968 , 19.38193 , 19.354696, 19.3279  , 19.30154 ,\n",
       "       19.275728, 19.250751, 19.227308, 19.205631, 19.185108, 19.164906,\n",
       "       19.14514 , 19.125973, 19.107359, 19.089111, 19.071812, 19.055168,\n",
       "       19.039474, 19.024729, 19.011364, 18.998957, 18.987535, 18.977081,\n",
       "       18.967705, 18.959084, 18.95136 , 18.944723, 18.93896 , 18.934048,\n",
       "       18.930012, 18.926746, 18.924835, 18.923727, 18.923136, 18.923096,\n",
       "       18.922716, 18.921928, 18.920576, 18.91874 , 18.916538, 18.914001,\n",
       "       18.911028, 18.90762 , 18.903666, 18.898981, 18.893557, 18.886286,\n",
       "       18.876743, 18.86455 , 18.849648, 18.831612, 18.810453, 18.786522,\n",
       "       18.75993 , 18.73154 , 18.702282, 18.672644, 18.643793, 18.616037,\n",
       "       18.58876 , 18.561981, 18.535318, 18.509123, 18.48252 , 18.455162,\n",
       "       18.4268  , 18.396711, 18.364323, 18.3281  , 18.287703, 18.243565,\n",
       "       18.191069, 18.132301, 18.067066, 17.993933, 17.915028, 17.838793,\n",
       "       17.762852, 17.686039, 17.612268, 17.541452, 17.470058, 17.400343,\n",
       "       17.32879 , 17.257483, 17.18647 , 17.114138, 17.038954, 16.96277 ,\n",
       "       16.885582, 16.804913, 16.718077, 16.630213, 16.533863, 16.435078,\n",
       "       16.325045, 16.222252, 16.103832, 15.998843, 15.869419, 15.76069 ,\n",
       "       15.62435 , 15.52282 , 15.385684, 15.299964, 15.166652, 15.09106 ,\n",
       "       14.957858, 14.885915, 14.761113, 14.684034, 14.560063, 14.478979,\n",
       "       14.37631 , 14.322624, 14.125491, 14.206587, 13.795673, 13.795636,\n",
       "       13.795593,       nan], dtype=float32)"
      ]
     },
     "execution_count": 10,
     "metadata": {},
     "output_type": "execute_result"
    }
   ],
   "source": [
    "ds1_gridT.thetao_con.isel(time_counter=0, deptht=0, x=650).values"
   ]
  },
  {
   "cell_type": "code",
   "execution_count": null,
   "id": "8db33636",
   "metadata": {},
   "outputs": [],
   "source": [
    "xr.open_zarr(f'{root_path}/RAPID36_subset1/T1d/ssh')"
   ]
  },
  {
   "cell_type": "code",
   "execution_count": null,
   "id": "cd3f648a",
   "metadata": {},
   "outputs": [],
   "source": [
    "datasets = {\"parent\": {\n",
    "            \"domain\": dsPdom,\n",
    "            \"gridT\": dsP_gridT,\n",
    "            \"gridU\": dsP_gridU,\n",
    "            \"gridV\": dsP_gridV,\n",
    "            },\n",
    "            \"child\": {\n",
    "            \"1\":{\n",
    "            \"domain\": ds1dom,\n",
    "            \"gridT\": ds1_gridT,\n",
    "            \"gridU\": ds1_gridU,\n",
    "            \"gridV\": ds1_gridV,\n",
    "            }},\n",
    "            \"grandchild\": {\n",
    "            \"2\": {\n",
    "            \"domain\": ds2dom,\n",
    "            \"gridT\": ds2_gridT,\n",
    "            \"gridU\": ds2_gridU,\n",
    "            \"gridV\": ds2_gridV,\n",
    "            }},\n",
    "            }\n",
    "\n",
    "nests = {\n",
    "    \"1\": {\n",
    "    \"parent\": \"/\",\n",
    "    \"iperio\": False,\n",
    "    \"rx\": 3,\n",
    "    \"ry\": 3,\n",
    "    \"imin\": 750,\n",
    "    \"imax\": 1140,\n",
    "    \"jmin\": 710,\n",
    "    \"jmax\": 870 \n",
    "    },\n",
    "    \"2\": {\n",
    "    \"parent\": \"1\",\n",
    "    \"iperio\": False,\n",
    "    \"rx\": 3,\n",
    "    \"ry\": 3,\n",
    "    \"imin\": 18,\n",
    "    \"imax\": 1092,\n",
    "    \"jmin\": 137,\n",
    "    \"jmax\": 307\n",
    "    }\n",
    "    }"
   ]
  },
  {
   "cell_type": "code",
   "execution_count": null,
   "id": "55ef18cf",
   "metadata": {},
   "outputs": [],
   "source": [
    "nemo = NEMODataTree.from_datasets(datasets=datasets, nests=nests, iperio=True, nftype=\"T\")\n",
    "nemo"
   ]
  },
  {
   "cell_type": "code",
   "execution_count": null,
   "id": "69d53f28",
   "metadata": {},
   "outputs": [],
   "source": [
    "# Indexing a child grid using the parent indices:\n",
    "i1_target = nemo['/gridT/1_gridT']['i_i1'].isin([750])\n",
    "j1_target = nemo['/gridT/1_gridT']['j_j1'].isin([710])\n",
    "\n",
    "nemo['/gridT/1_gridT']['thetao_con'].sel(i1=i1_target, j1=j1_target)"
   ]
  },
  {
   "cell_type": "code",
   "execution_count": null,
   "id": "0521f55c",
   "metadata": {},
   "outputs": [],
   "source": [
    "nemo['/gridT/1_gridT']['thetao_con'].isel(time_counter=0).groupby('i_i1').mean()"
   ]
  },
  {
   "cell_type": "code",
   "execution_count": null,
   "id": "ebcf320b",
   "metadata": {},
   "outputs": [],
   "source": [
    "plt.figure(figsize=(10, 4))\n",
    "nemo['/gridT/1_gridT/2_gridT']['thetao_con'].isel(time_counter=0, k2=0).plot(cmap='RdBu_r')"
   ]
  },
  {
   "cell_type": "code",
   "execution_count": null,
   "id": "01bc4a4e",
   "metadata": {},
   "outputs": [],
   "source": []
  }
 ],
 "metadata": {
  "kernelspec": {
   "display_name": "env_nemo_cookbook",
   "language": "python",
   "name": "python3"
  },
  "language_info": {
   "codemirror_mode": {
    "name": "ipython",
    "version": 3
   },
   "file_extension": ".py",
   "mimetype": "text/x-python",
   "name": "python",
   "nbconvert_exporter": "python",
   "pygments_lexer": "ipython3",
   "version": "3.13.5"
  }
 },
 "nbformat": 4,
 "nbformat_minor": 5
}
